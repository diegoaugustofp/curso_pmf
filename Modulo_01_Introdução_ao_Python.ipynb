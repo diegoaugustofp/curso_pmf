{
  "nbformat": 4,
  "nbformat_minor": 0,
  "metadata": {
    "colab": {
      "provenance": [],
      "collapsed_sections": [
        "3REaTy6q9hPd",
        "NfCpKzCe8a9E",
        "xqJ0YMvS60Yd",
        "BWQrthVh60sh",
        "_FV4Y3duC9h9",
        "nnECesEifPfq",
        "7wiqu-etgdJc",
        "uTLfABYsMNg6",
        "iDc4nmW5bxgb",
        "UP9w_wbnfzoi",
        "twhf44evstkU",
        "NKXlxxiFFQgM",
        "lRy2HmfOwSUs",
        "-8XcEqa40G3h",
        "yqL8gxLblegM",
        "NgBzGmH1loRa"
      ],
      "authorship_tag": "ABX9TyMs+OQHPMC4LaGFEaJW5BKE",
      "include_colab_link": true
    },
    "kernelspec": {
      "name": "python3",
      "display_name": "Python 3"
    },
    "language_info": {
      "name": "python"
    }
  },
  "cells": [
    {
      "cell_type": "markdown",
      "metadata": {
        "id": "view-in-github",
        "colab_type": "text"
      },
      "source": [
        "<a href=\"https://colab.research.google.com/github/diegoaugustofp/curso_pmf/blob/main/Modulo_01_Introdu%C3%A7%C3%A3o_ao_Python.ipynb\" target=\"_parent\"><img src=\"https://colab.research.google.com/assets/colab-badge.svg\" alt=\"Open In Colab\"/></a>"
      ]
    },
    {
      "cell_type": "markdown",
      "source": [
        "<img src = \"https://github.com/Trading-com-dados/pmf/blob/main/PMF%20002.png?raw=true\" width = 500>"
      ],
      "metadata": {
        "id": "f9F50D2ZBnuH"
      }
    },
    {
      "cell_type": "markdown",
      "source": [
        "# **Modulo 01 - Introdução ao Python**\n"
      ],
      "metadata": {
        "id": "HVEzFLv-8De4"
      }
    },
    {
      "cell_type": "markdown",
      "source": [
        "## 1.1 Comandos básicos"
      ],
      "metadata": {
        "id": "3REaTy6q9hPd"
      }
    },
    {
      "cell_type": "markdown",
      "source": [
        "###A operação abaixo soma 2 numeros"
      ],
      "metadata": {
        "id": "NfCpKzCe8a9E"
      }
    },
    {
      "cell_type": "code",
      "execution_count": 1,
      "metadata": {
        "colab": {
          "base_uri": "https://localhost:8080/"
        },
        "id": "RD7jEL3M6cJF",
        "outputId": "2b7f8829-be28-4328-c4da-0bf8ea9ed58e"
      },
      "outputs": [
        {
          "output_type": "execute_result",
          "data": {
            "text/plain": [
              "2"
            ]
          },
          "metadata": {},
          "execution_count": 1
        }
      ],
      "source": [
        "1+1"
      ]
    },
    {
      "cell_type": "markdown",
      "source": [
        "###Atalhos importantes:"
      ],
      "metadata": {
        "id": "xqJ0YMvS60Yd"
      }
    },
    {
      "cell_type": "markdown",
      "source": [
        "* CTRL + M M => Convert uma célula de código em texto\n",
        "\n",
        "* CTRL + M B => Cria uma célula de código\n",
        "\n",
        "* CTRL + M D => Delete uma célula\n",
        "\n",
        "* CTRL + ENTER => Executa a linha e permacena na célula\n",
        "\n",
        "* SHIFT + ENTER => Executa a linha e passa para a nova célula"
      ],
      "metadata": {
        "id": "e9mZMKnT632s"
      }
    },
    {
      "cell_type": "markdown",
      "source": [
        "###Inserindo imagens no notebook"
      ],
      "metadata": {
        "id": "BWQrthVh60sh"
      }
    },
    {
      "cell_type": "markdown",
      "source": [
        "Imagens são inseridas em celulas de Markdown\n",
        "\n",
        "*   se for online, cole a URL da imagem entre as tags \"<img\"\n",
        "*   Parametro:\n",
        "  * src = url da imagem\n",
        "  * width = largura da imagem\n",
        "* Ex.: \"<img src = \"\"https://github.com/Trading-com-dados/pmf/blob/main/PMF%20002.png?raw=true\"\" width = 500>\"\n",
        "\n"
      ],
      "metadata": {
        "id": "0xJGvqGQ_B8A"
      }
    },
    {
      "cell_type": "markdown",
      "source": [
        "<center> <img src = \"https://github.com/Trading-com-dados/pmf/blob/main/PMF%20002.png?raw=true\" width = 600>"
      ],
      "metadata": {
        "id": "cFDohRT--4sp"
      }
    },
    {
      "cell_type": "markdown",
      "source": [
        "<img src = \"https://github.com/Trading-com-Dados/pmf/blob/main/logotipo-trading-com-dados.svg?raw=true\" width = 500>"
      ],
      "metadata": {
        "id": "4UMhIXg0Alvf"
      }
    },
    {
      "cell_type": "markdown",
      "source": [
        "## 1.2 Exibindo Mensagens"
      ],
      "metadata": {
        "id": "_FV4Y3duC9h9"
      }
    },
    {
      "cell_type": "markdown",
      "source": [
        "### 1.2.1 Hello World"
      ],
      "metadata": {
        "id": "nnECesEifPfq"
      }
    },
    {
      "cell_type": "code",
      "source": [
        "print(\"Hello World!\")"
      ],
      "metadata": {
        "colab": {
          "base_uri": "https://localhost:8080/"
        },
        "id": "c07TLHBlgOfC",
        "outputId": "4299eae1-8c29-4422-f924-65b91df7f39b"
      },
      "execution_count": 2,
      "outputs": [
        {
          "output_type": "stream",
          "name": "stdout",
          "text": [
            "Hello World!\n"
          ]
        }
      ]
    },
    {
      "cell_type": "markdown",
      "source": [
        "## 1.3 Tipos de variáveis ( Variáveis e Objetos)"
      ],
      "metadata": {
        "id": "7wiqu-etgdJc"
      }
    },
    {
      "cell_type": "markdown",
      "source": [
        "**Tipo de variáveis**\n",
        "\n",
        "* **Integer (inteiro)**\n",
        "1. número de ações compradas:\n",
        "2. números de ordens enviadas\n",
        "3. quantidade de papéis analisados\n",
        "4. números de estratégias criadas\n",
        "\n",
        "* **Float (decimal) - o seprador decimal é \".\" (ponto)**\n",
        "1. preço do ativo\n",
        "2. valor financeiro do investimento\n",
        "3. métricas quantitativas, como, volatilidade, sharpe, sortino, drawdown dentre outras\n",
        "\n",
        "* **String**\n",
        "1. Noticias\n",
        "2. Redes sociais\n",
        "3. Nomes dos ativos\n",
        "\n",
        "* **Bolean (True ou False)**\n",
        "1. verificar a execução da ordem\n",
        "2. Verificar se uma regra foi obedecida\n"
      ],
      "metadata": {
        "id": "H9Qp4hzdCzkC"
      }
    },
    {
      "cell_type": "code",
      "source": [
        "# objeto\n",
        "9"
      ],
      "metadata": {
        "colab": {
          "base_uri": "https://localhost:8080/"
        },
        "id": "QdPXQ9AL7RH6",
        "outputId": "821a284e-d91c-4db8-dedb-7c8fb590b42b"
      },
      "execution_count": 3,
      "outputs": [
        {
          "output_type": "execute_result",
          "data": {
            "text/plain": [
              "9"
            ]
          },
          "metadata": {},
          "execution_count": 3
        }
      ]
    },
    {
      "cell_type": "code",
      "source": [
        "# variavel\n",
        "a = 9"
      ],
      "metadata": {
        "id": "ksaWI1HxCIxc"
      },
      "execution_count": 4,
      "outputs": []
    },
    {
      "cell_type": "code",
      "source": [
        "print(a)"
      ],
      "metadata": {
        "colab": {
          "base_uri": "https://localhost:8080/"
        },
        "id": "wOrUp7gOCNgc",
        "outputId": "71ce59e4-6c95-4500-910c-9466dc46422e"
      },
      "execution_count": 5,
      "outputs": [
        {
          "output_type": "stream",
          "name": "stdout",
          "text": [
            "9\n"
          ]
        }
      ]
    },
    {
      "cell_type": "code",
      "source": [
        "b = 30.78"
      ],
      "metadata": {
        "id": "bwHD8Js6COwb"
      },
      "execution_count": 6,
      "outputs": []
    },
    {
      "cell_type": "code",
      "source": [
        "b"
      ],
      "metadata": {
        "colab": {
          "base_uri": "https://localhost:8080/"
        },
        "id": "WuiDIQQYCUF6",
        "outputId": "a4572641-2c79-4d52-9381-067c750faf7b"
      },
      "execution_count": 7,
      "outputs": [
        {
          "output_type": "execute_result",
          "data": {
            "text/plain": [
              "30.78"
            ]
          },
          "metadata": {},
          "execution_count": 7
        }
      ]
    },
    {
      "cell_type": "code",
      "source": [
        "c = True"
      ],
      "metadata": {
        "id": "8PrHiUTfCn3G"
      },
      "execution_count": 12,
      "outputs": []
    },
    {
      "cell_type": "code",
      "source": [
        "d = \"Python\""
      ],
      "metadata": {
        "id": "suHJLU7rCsTL"
      },
      "execution_count": 13,
      "outputs": []
    },
    {
      "cell_type": "markdown",
      "source": [
        "Chamando a função type( )"
      ],
      "metadata": {
        "id": "RT5f82swCbZD"
      }
    },
    {
      "cell_type": "code",
      "source": [
        "type(a)"
      ],
      "metadata": {
        "colab": {
          "base_uri": "https://localhost:8080/"
        },
        "id": "EJIY-uCDCU4U",
        "outputId": "d49dcda9-0d64-4ad4-c074-514cee892f87"
      },
      "execution_count": 10,
      "outputs": [
        {
          "output_type": "execute_result",
          "data": {
            "text/plain": [
              "int"
            ]
          },
          "metadata": {},
          "execution_count": 10
        }
      ]
    },
    {
      "cell_type": "code",
      "source": [
        "type (b)"
      ],
      "metadata": {
        "colab": {
          "base_uri": "https://localhost:8080/"
        },
        "id": "EppQC7_xCXs7",
        "outputId": "fe5394f6-adc9-4a10-e7d9-3711ef65a2cf"
      },
      "execution_count": 11,
      "outputs": [
        {
          "output_type": "execute_result",
          "data": {
            "text/plain": [
              "float"
            ]
          },
          "metadata": {},
          "execution_count": 11
        }
      ]
    },
    {
      "cell_type": "code",
      "source": [
        "type(c)"
      ],
      "metadata": {
        "colab": {
          "base_uri": "https://localhost:8080/"
        },
        "id": "0eyR925GCh5M",
        "outputId": "960b967f-94f0-4218-8c11-50f428380c7e"
      },
      "execution_count": 14,
      "outputs": [
        {
          "output_type": "execute_result",
          "data": {
            "text/plain": [
              "bool"
            ]
          },
          "metadata": {},
          "execution_count": 14
        }
      ]
    },
    {
      "cell_type": "code",
      "source": [
        "type(d)"
      ],
      "metadata": {
        "colab": {
          "base_uri": "https://localhost:8080/"
        },
        "id": "JmFbsfcFCxzt",
        "outputId": "0753f801-55c6-40b0-c973-15daed65ce96"
      },
      "execution_count": 15,
      "outputs": [
        {
          "output_type": "execute_result",
          "data": {
            "text/plain": [
              "str"
            ]
          },
          "metadata": {},
          "execution_count": 15
        }
      ]
    },
    {
      "cell_type": "markdown",
      "source": [
        "Cuidado com os operadoes de variáveis... diferença entre = e =="
      ],
      "metadata": {
        "id": "SbN9tOVtL3dK"
      }
    },
    {
      "cell_type": "code",
      "source": [
        "print (a )\n",
        "print (b)\n",
        "a= b\n",
        "print (a)"
      ],
      "metadata": {
        "colab": {
          "base_uri": "https://localhost:8080/"
        },
        "id": "HWmgcvR9MA_J",
        "outputId": "4e93c5b5-8f67-49c5-cf5c-560485725450"
      },
      "execution_count": 16,
      "outputs": [
        {
          "output_type": "stream",
          "name": "stdout",
          "text": [
            "9\n",
            "30.78\n",
            "30.78\n"
          ]
        }
      ]
    },
    {
      "cell_type": "code",
      "source": [
        "a == b"
      ],
      "metadata": {
        "colab": {
          "base_uri": "https://localhost:8080/"
        },
        "id": "bKS4j8pUMIoy",
        "outputId": "dde599de-e95b-4d30-d520-9086a998909a"
      },
      "execution_count": 17,
      "outputs": [
        {
          "output_type": "execute_result",
          "data": {
            "text/plain": [
              "True"
            ]
          },
          "metadata": {},
          "execution_count": 17
        }
      ]
    },
    {
      "cell_type": "markdown",
      "source": [
        "## 1.4 Operadores Aritiméticos"
      ],
      "metadata": {
        "id": "uTLfABYsMNg6"
      }
    },
    {
      "cell_type": "markdown",
      "source": [
        "* Soma +\n",
        "* Subtração -\n",
        "* Multiplicação *\n",
        "* Divisão /\n",
        "* Divisão inteira //\n",
        "* Resto da divisão %\n",
        "* Potência **"
      ],
      "metadata": {
        "id": "EMa_Siw9OB9n"
      }
    },
    {
      "cell_type": "markdown",
      "source": [
        "Exemplos das operações:\n",
        "\n",
        "No momento, as acções da PETR4 estão cotadas a 23.07 e as da VALE3 a 85.75. No mesmo dia, você fez duas aquisições: 100 de PETR4 e 200 de VALE3. Qual o valor que você investiu neste dia?"
      ],
      "metadata": {
        "id": "YyRVFLCoOtW_"
      }
    },
    {
      "cell_type": "code",
      "source": [
        "PETR4 = 23.07 * 100\n",
        "VALE3 = 85.75 * 200"
      ],
      "metadata": {
        "id": "hx1gQdcVPaTX"
      },
      "execution_count": 56,
      "outputs": []
    },
    {
      "cell_type": "code",
      "source": [
        "PETR4 + VALE3"
      ],
      "metadata": {
        "colab": {
          "base_uri": "https://localhost:8080/"
        },
        "id": "fHpXrM82Pfjp",
        "outputId": "51fb422e-c6d3-4f51-d914-caa0649a6ba6"
      },
      "execution_count": 36,
      "outputs": [
        {
          "output_type": "execute_result",
          "data": {
            "text/plain": [
              "19457.0"
            ]
          },
          "metadata": {},
          "execution_count": 36
        }
      ]
    },
    {
      "cell_type": "code",
      "source": [
        "(23.07 * 100 ) + (85.75 * 200)"
      ],
      "metadata": {
        "colab": {
          "base_uri": "https://localhost:8080/"
        },
        "id": "wX9PET7SPlef",
        "outputId": "b53bb7a3-0009-4dfe-e132-becb46133b6f"
      },
      "execution_count": 37,
      "outputs": [
        {
          "output_type": "execute_result",
          "data": {
            "text/plain": [
              "19457.0"
            ]
          },
          "metadata": {},
          "execution_count": 37
        }
      ]
    },
    {
      "cell_type": "markdown",
      "source": [
        "Suponha que eu tenha R$ 4000,00 na carteira. Quantas ações de VALE3 eu posso comprar?"
      ],
      "metadata": {
        "id": "oJs_xxEfP0Ig"
      }
    },
    {
      "cell_type": "code",
      "source": [
        "valor_vale = 85.75\n",
        "valor_carteira = 4000"
      ],
      "metadata": {
        "id": "oX97cQLgRTzo"
      },
      "execution_count": 38,
      "outputs": []
    },
    {
      "cell_type": "code",
      "source": [
        "valor_carteira // valor_vale"
      ],
      "metadata": {
        "colab": {
          "base_uri": "https://localhost:8080/"
        },
        "id": "gnFGiyWwRYXh",
        "outputId": "dc7c6b6d-88dc-4156-c4c6-5b13f87f7a68"
      },
      "execution_count": 39,
      "outputs": [
        {
          "output_type": "execute_result",
          "data": {
            "text/plain": [
              "46.0"
            ]
          },
          "metadata": {},
          "execution_count": 39
        }
      ]
    },
    {
      "cell_type": "markdown",
      "source": [
        "Vamos utilizar os R\\$ 4000,00 da nossa carteira para comprar ações de VALE3.\n",
        "Vamos utlizar o restante para comprar ações de MGLU3. Que custa R$ 6,18."
      ],
      "metadata": {
        "id": "OT2TZNtdRc1v"
      }
    },
    {
      "cell_type": "code",
      "source": [
        "valor_a_investir = valor_carteira % valor_vale"
      ],
      "metadata": {
        "id": "L9-NJ9dQSi1E"
      },
      "execution_count": 40,
      "outputs": []
    },
    {
      "cell_type": "code",
      "source": [
        "valor_magalu = 2.82"
      ],
      "metadata": {
        "id": "FmPQmxfQTLF9"
      },
      "execution_count": 41,
      "outputs": []
    },
    {
      "cell_type": "code",
      "source": [
        "qtde_magalu = valor_a_investir // valor_magalu"
      ],
      "metadata": {
        "id": "ph3Ny7HFTRO8"
      },
      "execution_count": 45,
      "outputs": []
    },
    {
      "cell_type": "code",
      "source": [
        "MGLU3 = valor_magalu * qtde_magalu"
      ],
      "metadata": {
        "id": "ubi0DXCocu_F"
      },
      "execution_count": 46,
      "outputs": []
    },
    {
      "cell_type": "code",
      "source": [
        "valor_a_investir % valor_magalu"
      ],
      "metadata": {
        "colab": {
          "base_uri": "https://localhost:8080/"
        },
        "id": "nfKBtnu1Teoe",
        "outputId": "4a0b84dc-c647-4136-9e1d-f5fcaf502f20"
      },
      "execution_count": 43,
      "outputs": [
        {
          "output_type": "execute_result",
          "data": {
            "text/plain": [
              "1.920000000000003"
            ]
          },
          "metadata": {},
          "execution_count": 43
        }
      ]
    },
    {
      "cell_type": "code",
      "source": [],
      "metadata": {
        "id": "RFejxub5TiR8"
      },
      "execution_count": 43,
      "outputs": []
    },
    {
      "cell_type": "markdown",
      "source": [
        "## 1.5 Operadores Lógicos"
      ],
      "metadata": {
        "id": "iDc4nmW5bxgb"
      }
    },
    {
      "cell_type": "markdown",
      "source": [
        "Operadores comparativos:\n",
        "\n",
        "* Maior que >\n",
        "* Menor que <\n",
        "* Maior ou igual >=\n",
        "* Menor ou igual <=\n",
        "* Igual ==\n",
        "* Diferente !="
      ],
      "metadata": {
        "id": "_-C90lOgb2Au"
      }
    },
    {
      "cell_type": "code",
      "source": [
        "PETR4 == VALE3"
      ],
      "metadata": {
        "colab": {
          "base_uri": "https://localhost:8080/"
        },
        "id": "p3su5MOHce_F",
        "outputId": "5dd96236-b168-4a56-cacd-b597360b98b2"
      },
      "execution_count": 48,
      "outputs": [
        {
          "output_type": "execute_result",
          "data": {
            "text/plain": [
              "False"
            ]
          },
          "metadata": {},
          "execution_count": 48
        }
      ]
    },
    {
      "cell_type": "code",
      "source": [
        "PETR4 > VALE3"
      ],
      "metadata": {
        "colab": {
          "base_uri": "https://localhost:8080/"
        },
        "id": "PUiHy9F4dAG2",
        "outputId": "0f682e1e-d904-454a-97f8-3362cf0f40db"
      },
      "execution_count": 49,
      "outputs": [
        {
          "output_type": "execute_result",
          "data": {
            "text/plain": [
              "False"
            ]
          },
          "metadata": {},
          "execution_count": 49
        }
      ]
    },
    {
      "cell_type": "code",
      "source": [
        "PETR4 > MGLU3"
      ],
      "metadata": {
        "colab": {
          "base_uri": "https://localhost:8080/"
        },
        "id": "QMrlP8IKdEjw",
        "outputId": "1f4247f2-f65d-439f-ec35-cde50f83cf9d"
      },
      "execution_count": 50,
      "outputs": [
        {
          "output_type": "execute_result",
          "data": {
            "text/plain": [
              "True"
            ]
          },
          "metadata": {},
          "execution_count": 50
        }
      ]
    },
    {
      "cell_type": "code",
      "source": [
        "PETR4 != MGLU3"
      ],
      "metadata": {
        "colab": {
          "base_uri": "https://localhost:8080/"
        },
        "id": "x4sLN7wOdJUl",
        "outputId": "380e8f8e-2f47-4387-db8b-7195d3eea550"
      },
      "execution_count": 53,
      "outputs": [
        {
          "output_type": "execute_result",
          "data": {
            "text/plain": [
              "True"
            ]
          },
          "metadata": {},
          "execution_count": 53
        }
      ]
    },
    {
      "cell_type": "markdown",
      "source": [
        "Operadores condionais\n",
        "\n",
        "if, else, elif"
      ],
      "metadata": {
        "id": "WaC2ksjkcQec"
      }
    },
    {
      "cell_type": "markdown",
      "source": [
        "Operadores lógicos:\n",
        "\n",
        "* E and\n",
        "* Ou or\n",
        "* Não not"
      ],
      "metadata": {
        "id": "J1ne6EumcGdz"
      }
    },
    {
      "cell_type": "code",
      "source": [
        "(PETR4 > MGLU3) and (VALE3 > MGLU3)\n"
      ],
      "metadata": {
        "colab": {
          "base_uri": "https://localhost:8080/"
        },
        "id": "Em3gvTiUcbVr",
        "outputId": "b91c9918-8533-4bb8-881c-90ecb487e416"
      },
      "execution_count": 58,
      "outputs": [
        {
          "output_type": "execute_result",
          "data": {
            "text/plain": [
              "True"
            ]
          },
          "metadata": {},
          "execution_count": 58
        }
      ]
    },
    {
      "cell_type": "code",
      "source": [
        "(PETR4 > MGLU3) and (VALE3 < MGLU3)"
      ],
      "metadata": {
        "colab": {
          "base_uri": "https://localhost:8080/"
        },
        "id": "hJP6Kr6XdvQs",
        "outputId": "3978881f-388d-4eab-d232-b6183054c304"
      },
      "execution_count": 59,
      "outputs": [
        {
          "output_type": "execute_result",
          "data": {
            "text/plain": [
              "False"
            ]
          },
          "metadata": {},
          "execution_count": 59
        }
      ]
    },
    {
      "cell_type": "code",
      "source": [
        "(PETR4 > MGLU3) & (VALE3 < MGLU3)"
      ],
      "metadata": {
        "colab": {
          "base_uri": "https://localhost:8080/"
        },
        "id": "FEMVTN0XeEb0",
        "outputId": "7a98274d-fdf0-45ee-f21d-ff5a31ccdd34"
      },
      "execution_count": 60,
      "outputs": [
        {
          "output_type": "execute_result",
          "data": {
            "text/plain": [
              "False"
            ]
          },
          "metadata": {},
          "execution_count": 60
        }
      ]
    },
    {
      "cell_type": "code",
      "source": [
        "(PETR4 > MGLU3) or (VALE3 < MGLU3)"
      ],
      "metadata": {
        "colab": {
          "base_uri": "https://localhost:8080/"
        },
        "id": "JuYW9GKeecDR",
        "outputId": "c0db9abf-02ea-4822-f037-8a0c6d7dc833"
      },
      "execution_count": 61,
      "outputs": [
        {
          "output_type": "execute_result",
          "data": {
            "text/plain": [
              "True"
            ]
          },
          "metadata": {},
          "execution_count": 61
        }
      ]
    },
    {
      "cell_type": "code",
      "source": [
        "(PETR4 > MGLU3) | (VALE3 < MGLU3)"
      ],
      "metadata": {
        "colab": {
          "base_uri": "https://localhost:8080/"
        },
        "id": "PVjnUNpTeiGN",
        "outputId": "7f2306c5-39f2-44a5-8896-0913192bad87"
      },
      "execution_count": 63,
      "outputs": [
        {
          "output_type": "execute_result",
          "data": {
            "text/plain": [
              "True"
            ]
          },
          "metadata": {},
          "execution_count": 63
        }
      ]
    },
    {
      "cell_type": "code",
      "source": [
        "not((PETR4 > MGLU3) and (VALE3 < MGLU3))"
      ],
      "metadata": {
        "colab": {
          "base_uri": "https://localhost:8080/"
        },
        "id": "0rCzDm69ekKE",
        "outputId": "896c74f9-a2de-47a2-e608-b058213d78f8"
      },
      "execution_count": 66,
      "outputs": [
        {
          "output_type": "execute_result",
          "data": {
            "text/plain": [
              "True"
            ]
          },
          "metadata": {},
          "execution_count": 66
        }
      ]
    },
    {
      "cell_type": "markdown",
      "source": [
        "Operadores de Identidade"
      ],
      "metadata": {
        "id": "dLvEeI5wesOK"
      }
    },
    {
      "cell_type": "code",
      "source": [
        "PETR4 is MGLU3"
      ],
      "metadata": {
        "colab": {
          "base_uri": "https://localhost:8080/"
        },
        "id": "ON9-U7RQflXN",
        "outputId": "22adc107-eb18-4ecc-c24b-7f55a066d86a"
      },
      "execution_count": 68,
      "outputs": [
        {
          "output_type": "execute_result",
          "data": {
            "text/plain": [
              "False"
            ]
          },
          "metadata": {},
          "execution_count": 68
        }
      ]
    },
    {
      "cell_type": "code",
      "source": [
        "PETR4 is not MGLU3"
      ],
      "metadata": {
        "colab": {
          "base_uri": "https://localhost:8080/"
        },
        "id": "Dxf94VTpfsvz",
        "outputId": "e0a8804e-343f-4636-e0c0-96bcb0bae201"
      },
      "execution_count": 69,
      "outputs": [
        {
          "output_type": "execute_result",
          "data": {
            "text/plain": [
              "True"
            ]
          },
          "metadata": {},
          "execution_count": 69
        }
      ]
    },
    {
      "cell_type": "markdown",
      "source": [
        "## 1.6 Trabalhando com String"
      ],
      "metadata": {
        "id": "UP9w_wbnfzoi"
      }
    },
    {
      "cell_type": "code",
      "source": [
        "num_str = \"20\""
      ],
      "metadata": {
        "id": "0rx1UD4uhJOf"
      },
      "execution_count": 70,
      "outputs": []
    },
    {
      "cell_type": "code",
      "source": [
        "num = 20"
      ],
      "metadata": {
        "id": "axC-JIRIiHlb"
      },
      "execution_count": 71,
      "outputs": []
    },
    {
      "cell_type": "code",
      "source": [
        "num_str == num"
      ],
      "metadata": {
        "colab": {
          "base_uri": "https://localhost:8080/"
        },
        "id": "kWHVfnhdiIiw",
        "outputId": "0ecf3539-d41b-442e-81a9-3fc6e840418f"
      },
      "execution_count": 72,
      "outputs": [
        {
          "output_type": "execute_result",
          "data": {
            "text/plain": [
              "False"
            ]
          },
          "metadata": {},
          "execution_count": 72
        }
      ]
    },
    {
      "cell_type": "markdown",
      "source": [
        "Fatiando o texto (slicing) e Indexação (index)"
      ],
      "metadata": {
        "id": "sEyDtHYIiKMI"
      }
    },
    {
      "cell_type": "code",
      "source": [
        "manchete = \"A participação de mercado da Renault (EPA:RENA) no continente ultrapassou a da Stellantis (NYSE:STLA) pelo primeiro mês desde que o grupo franco-italiano foi formado, em janeiro de 2021, mostraram os dados da Associação Europeia de Fabricantes de Automóveis (ACEA).\""
      ],
      "metadata": {
        "id": "mDd4OP4JiXQe"
      },
      "execution_count": 75,
      "outputs": []
    },
    {
      "cell_type": "code",
      "source": [
        "type(manchete)"
      ],
      "metadata": {
        "colab": {
          "base_uri": "https://localhost:8080/"
        },
        "id": "1Nsc4F6ZjwaA",
        "outputId": "33cdffd6-b1a5-4f7b-d635-6c6f9cca291f"
      },
      "execution_count": 76,
      "outputs": [
        {
          "output_type": "execute_result",
          "data": {
            "text/plain": [
              "str"
            ]
          },
          "metadata": {},
          "execution_count": 76
        }
      ]
    },
    {
      "cell_type": "code",
      "source": [
        "print(manchete)"
      ],
      "metadata": {
        "colab": {
          "base_uri": "https://localhost:8080/"
        },
        "id": "Ytay6k74jyxE",
        "outputId": "50cecf6f-919d-4223-debb-ce3e9a570f0c"
      },
      "execution_count": 77,
      "outputs": [
        {
          "output_type": "stream",
          "name": "stdout",
          "text": [
            "A participação de mercado da Renault (EPA:RENA) no continente ultrapassou a da Stellantis (NYSE:STLA) pelo primeiro mês desde que o grupo franco-italiano foi formado, em janeiro de 2021, mostraram os dados da Associação Europeia de Fabricantes de Automóveis (ACEA).\n"
          ]
        }
      ]
    },
    {
      "cell_type": "code",
      "source": [
        "manchete"
      ],
      "metadata": {
        "colab": {
          "base_uri": "https://localhost:8080/",
          "height": 54
        },
        "id": "Nph4BUGkj0Ic",
        "outputId": "2d79a9a1-d51c-47a5-a22f-eaca76f3c955"
      },
      "execution_count": 78,
      "outputs": [
        {
          "output_type": "execute_result",
          "data": {
            "text/plain": [
              "'A participação de mercado da Renault (EPA:RENA) no continente ultrapassou a da Stellantis (NYSE:STLA) pelo primeiro mês desde que o grupo franco-italiano foi formado, em janeiro de 2021, mostraram os dados da Associação Europeia de Fabricantes de Automóveis (ACEA).'"
            ],
            "application/vnd.google.colaboratory.intrinsic+json": {
              "type": "string"
            }
          },
          "metadata": {},
          "execution_count": 78
        }
      ]
    },
    {
      "cell_type": "code",
      "source": [
        "len(manchete)"
      ],
      "metadata": {
        "colab": {
          "base_uri": "https://localhost:8080/"
        },
        "id": "2QAdRGiEj6x0",
        "outputId": "42319d7f-8ddf-4bcb-9f59-6acf1878e4fa"
      },
      "execution_count": 79,
      "outputs": [
        {
          "output_type": "execute_result",
          "data": {
            "text/plain": [
              "265"
            ]
          },
          "metadata": {},
          "execution_count": 79
        }
      ]
    },
    {
      "cell_type": "code",
      "source": [
        "manchete[0]"
      ],
      "metadata": {
        "colab": {
          "base_uri": "https://localhost:8080/",
          "height": 36
        },
        "id": "c6dJ5gcokAVs",
        "outputId": "5f8c10cc-717e-41e6-db74-94a3aac13eb8"
      },
      "execution_count": 80,
      "outputs": [
        {
          "output_type": "execute_result",
          "data": {
            "text/plain": [
              "'A'"
            ],
            "application/vnd.google.colaboratory.intrinsic+json": {
              "type": "string"
            }
          },
          "metadata": {},
          "execution_count": 80
        }
      ]
    },
    {
      "cell_type": "code",
      "source": [
        "manchete[1]"
      ],
      "metadata": {
        "colab": {
          "base_uri": "https://localhost:8080/",
          "height": 36
        },
        "id": "soJ9ANPckvqp",
        "outputId": "c560e068-996b-4c65-ada4-ae392b1f8350"
      },
      "execution_count": 81,
      "outputs": [
        {
          "output_type": "execute_result",
          "data": {
            "text/plain": [
              "' '"
            ],
            "application/vnd.google.colaboratory.intrinsic+json": {
              "type": "string"
            }
          },
          "metadata": {},
          "execution_count": 81
        }
      ]
    },
    {
      "cell_type": "code",
      "source": [
        "manchete[51]"
      ],
      "metadata": {
        "colab": {
          "base_uri": "https://localhost:8080/",
          "height": 36
        },
        "id": "8MhF4abzk2NX",
        "outputId": "c1b65175-a946-4027-f1df-0483e50aa181"
      },
      "execution_count": 83,
      "outputs": [
        {
          "output_type": "execute_result",
          "data": {
            "text/plain": [
              "'c'"
            ],
            "application/vnd.google.colaboratory.intrinsic+json": {
              "type": "string"
            }
          },
          "metadata": {},
          "execution_count": 83
        }
      ]
    },
    {
      "cell_type": "code",
      "source": [
        "manchete[264]"
      ],
      "metadata": {
        "colab": {
          "base_uri": "https://localhost:8080/",
          "height": 36
        },
        "id": "6LSNCFtAk4RH",
        "outputId": "4d541cb4-bfcb-4d5e-8551-645aaf37a715"
      },
      "execution_count": 85,
      "outputs": [
        {
          "output_type": "execute_result",
          "data": {
            "text/plain": [
              "'.'"
            ],
            "application/vnd.google.colaboratory.intrinsic+json": {
              "type": "string"
            }
          },
          "metadata": {},
          "execution_count": 85
        }
      ]
    },
    {
      "cell_type": "code",
      "source": [
        "manchete[265]"
      ],
      "metadata": {
        "colab": {
          "base_uri": "https://localhost:8080/",
          "height": 147
        },
        "id": "ATtoogjHk73n",
        "outputId": "57fe69fb-2ab1-4327-ba8b-2d596bcba27e"
      },
      "execution_count": 86,
      "outputs": [
        {
          "output_type": "error",
          "ename": "IndexError",
          "evalue": "string index out of range",
          "traceback": [
            "\u001b[0;31m---------------------------------------------------------------------------\u001b[0m",
            "\u001b[0;31mIndexError\u001b[0m                                Traceback (most recent call last)",
            "\u001b[0;32m<ipython-input-86-2407f23b10a9>\u001b[0m in \u001b[0;36m<cell line: 0>\u001b[0;34m()\u001b[0m\n\u001b[0;32m----> 1\u001b[0;31m \u001b[0mmanchete\u001b[0m\u001b[0;34m[\u001b[0m\u001b[0;36m265\u001b[0m\u001b[0;34m]\u001b[0m\u001b[0;34m\u001b[0m\u001b[0;34m\u001b[0m\u001b[0m\n\u001b[0m",
            "\u001b[0;31mIndexError\u001b[0m: string index out of range"
          ]
        }
      ]
    },
    {
      "cell_type": "code",
      "source": [
        "manchete[0:265]"
      ],
      "metadata": {
        "colab": {
          "base_uri": "https://localhost:8080/",
          "height": 54
        },
        "id": "roUs3dR5lBiw",
        "outputId": "4c09bbff-7083-4e37-9463-4ff805c19fd9"
      },
      "execution_count": 91,
      "outputs": [
        {
          "output_type": "execute_result",
          "data": {
            "text/plain": [
              "'A participação de mercado da Renault (EPA:RENA) no continente ultrapassou a da Stellantis (NYSE:STLA) pelo primeiro mês desde que o grupo franco-italiano foi formado, em janeiro de 2021, mostraram os dados da Associação Europeia de Fabricantes de Automóveis (ACEA).'"
            ],
            "application/vnd.google.colaboratory.intrinsic+json": {
              "type": "string"
            }
          },
          "metadata": {},
          "execution_count": 91
        }
      ]
    },
    {
      "cell_type": "code",
      "source": [
        "manchete[42:46]"
      ],
      "metadata": {
        "colab": {
          "base_uri": "https://localhost:8080/",
          "height": 36
        },
        "id": "8eR7Y1ftldpX",
        "outputId": "bdcc73ed-2ee6-42a1-f7cc-e7553f9a8b38"
      },
      "execution_count": 95,
      "outputs": [
        {
          "output_type": "execute_result",
          "data": {
            "text/plain": [
              "'RENA'"
            ],
            "application/vnd.google.colaboratory.intrinsic+json": {
              "type": "string"
            }
          },
          "metadata": {},
          "execution_count": 95
        }
      ]
    },
    {
      "cell_type": "code",
      "source": [
        "manchete[-1]"
      ],
      "metadata": {
        "colab": {
          "base_uri": "https://localhost:8080/",
          "height": 36
        },
        "id": "fg_0ebUYl-LU",
        "outputId": "4d6169d9-a47f-4617-f9cd-fa4f198f3a58"
      },
      "execution_count": 96,
      "outputs": [
        {
          "output_type": "execute_result",
          "data": {
            "text/plain": [
              "'.'"
            ],
            "application/vnd.google.colaboratory.intrinsic+json": {
              "type": "string"
            }
          },
          "metadata": {},
          "execution_count": 96
        }
      ]
    },
    {
      "cell_type": "code",
      "source": [
        "manchete[-10:]"
      ],
      "metadata": {
        "colab": {
          "base_uri": "https://localhost:8080/",
          "height": 36
        },
        "id": "MOjRaJoXmvlm",
        "outputId": "1b68d4f5-0c35-4deb-943d-12bf571a1198"
      },
      "execution_count": 98,
      "outputs": [
        {
          "output_type": "execute_result",
          "data": {
            "text/plain": [
              "'is (ACEA).'"
            ],
            "application/vnd.google.colaboratory.intrinsic+json": {
              "type": "string"
            }
          },
          "metadata": {},
          "execution_count": 98
        }
      ]
    },
    {
      "cell_type": "code",
      "source": [
        "manchete[-6:-2]"
      ],
      "metadata": {
        "colab": {
          "base_uri": "https://localhost:8080/",
          "height": 36
        },
        "id": "ytkW2rQymy5r",
        "outputId": "ac2a0e2f-c88d-4b0c-ac01-69c1e7d739e0"
      },
      "execution_count": 100,
      "outputs": [
        {
          "output_type": "execute_result",
          "data": {
            "text/plain": [
              "'ACEA'"
            ],
            "application/vnd.google.colaboratory.intrinsic+json": {
              "type": "string"
            }
          },
          "metadata": {},
          "execution_count": 100
        }
      ]
    },
    {
      "cell_type": "code",
      "source": [
        "manchete[0:-2:4]\n"
      ],
      "metadata": {
        "colab": {
          "base_uri": "https://localhost:8080/",
          "height": 36
        },
        "id": "28aYogn_m9JE",
        "outputId": "c1cdf46c-0576-4337-e569-7378be5aeaea"
      },
      "execution_count": 103,
      "outputs": [
        {
          "output_type": "execute_result",
          "data": {
            "text/plain": [
              "'Ariãero a ANnonetaudtasYS)lrimdeegoa-loiromno 1oa ds oçEp FitduósC'"
            ],
            "application/vnd.google.colaboratory.intrinsic+json": {
              "type": "string"
            }
          },
          "metadata": {},
          "execution_count": 103
        }
      ]
    },
    {
      "cell_type": "code",
      "source": [
        "manchete[::-1]"
      ],
      "metadata": {
        "colab": {
          "base_uri": "https://localhost:8080/",
          "height": 54
        },
        "id": "1Xc1V10XnYqG",
        "outputId": "99b0acac-ae98-42d8-8d97-4de6491a7e8b"
      },
      "execution_count": 104,
      "outputs": [
        {
          "output_type": "execute_result",
          "data": {
            "text/plain": [
              "'.)AECA( sievómotuA ed setnacirbaF ed aieporuE oãçaicossA ad sodad so marartsom ,1202 ed orienaj me ,odamrof iof onailati-ocnarf opurg o euq edsed sêm oriemirp olep )ALTS:ESYN( sitnalletS ad a uossapartlu etnenitnoc on )ANER:APE( tluaneR ad odacrem ed oãçapicitrap A'"
            ],
            "application/vnd.google.colaboratory.intrinsic+json": {
              "type": "string"
            }
          },
          "metadata": {},
          "execution_count": 104
        }
      ]
    },
    {
      "cell_type": "code",
      "source": [
        "manchete.lower()"
      ],
      "metadata": {
        "colab": {
          "base_uri": "https://localhost:8080/",
          "height": 54
        },
        "id": "LPv9Id1ZnsMp",
        "outputId": "2872c613-1ad6-42eb-cd59-4cad42ed27b9"
      },
      "execution_count": 105,
      "outputs": [
        {
          "output_type": "execute_result",
          "data": {
            "text/plain": [
              "'a participação de mercado da renault (epa:rena) no continente ultrapassou a da stellantis (nyse:stla) pelo primeiro mês desde que o grupo franco-italiano foi formado, em janeiro de 2021, mostraram os dados da associação europeia de fabricantes de automóveis (acea).'"
            ],
            "application/vnd.google.colaboratory.intrinsic+json": {
              "type": "string"
            }
          },
          "metadata": {},
          "execution_count": 105
        }
      ]
    },
    {
      "cell_type": "code",
      "source": [
        "manchete.upper()"
      ],
      "metadata": {
        "colab": {
          "base_uri": "https://localhost:8080/",
          "height": 54
        },
        "id": "KcXrsTHYpP3h",
        "outputId": "0fd0b708-d795-49b9-abac-74ded18b486e"
      },
      "execution_count": 106,
      "outputs": [
        {
          "output_type": "execute_result",
          "data": {
            "text/plain": [
              "'A PARTICIPAÇÃO DE MERCADO DA RENAULT (EPA:RENA) NO CONTINENTE ULTRAPASSOU A DA STELLANTIS (NYSE:STLA) PELO PRIMEIRO MÊS DESDE QUE O GRUPO FRANCO-ITALIANO FOI FORMADO, EM JANEIRO DE 2021, MOSTRARAM OS DADOS DA ASSOCIAÇÃO EUROPEIA DE FABRICANTES DE AUTOMÓVEIS (ACEA).'"
            ],
            "application/vnd.google.colaboratory.intrinsic+json": {
              "type": "string"
            }
          },
          "metadata": {},
          "execution_count": 106
        }
      ]
    },
    {
      "cell_type": "code",
      "source": [
        "manchete.split(':')"
      ],
      "metadata": {
        "colab": {
          "base_uri": "https://localhost:8080/"
        },
        "id": "hWW_RTNUpSGT",
        "outputId": "bf1039aa-6211-4233-c806-a3cf860aeba5"
      },
      "execution_count": 107,
      "outputs": [
        {
          "output_type": "execute_result",
          "data": {
            "text/plain": [
              "['A participação de mercado da Renault (EPA',\n",
              " 'RENA) no continente ultrapassou a da Stellantis (NYSE',\n",
              " 'STLA) pelo primeiro mês desde que o grupo franco-italiano foi formado, em janeiro de 2021, mostraram os dados da Associação Europeia de Fabricantes de Automóveis (ACEA).']"
            ]
          },
          "metadata": {},
          "execution_count": 107
        }
      ]
    },
    {
      "cell_type": "code",
      "source": [
        "manchete.split()"
      ],
      "metadata": {
        "colab": {
          "base_uri": "https://localhost:8080/"
        },
        "id": "O6DzX0SOpVPw",
        "outputId": "991ba7a6-2ad0-4ac9-8326-e64f1794c880"
      },
      "execution_count": 109,
      "outputs": [
        {
          "output_type": "execute_result",
          "data": {
            "text/plain": [
              "['A',\n",
              " 'participação',\n",
              " 'de',\n",
              " 'mercado',\n",
              " 'da',\n",
              " 'Renault',\n",
              " '(EPA:RENA)',\n",
              " 'no',\n",
              " 'continente',\n",
              " 'ultrapassou',\n",
              " 'a',\n",
              " 'da',\n",
              " 'Stellantis',\n",
              " '(NYSE:STLA)',\n",
              " 'pelo',\n",
              " 'primeiro',\n",
              " 'mês',\n",
              " 'desde',\n",
              " 'que',\n",
              " 'o',\n",
              " 'grupo',\n",
              " 'franco-italiano',\n",
              " 'foi',\n",
              " 'formado,',\n",
              " 'em',\n",
              " 'janeiro',\n",
              " 'de',\n",
              " '2021,',\n",
              " 'mostraram',\n",
              " 'os',\n",
              " 'dados',\n",
              " 'da',\n",
              " 'Associação',\n",
              " 'Europeia',\n",
              " 'de',\n",
              " 'Fabricantes',\n",
              " 'de',\n",
              " 'Automóveis',\n",
              " '(ACEA).']"
            ]
          },
          "metadata": {},
          "execution_count": 109
        }
      ]
    },
    {
      "cell_type": "markdown",
      "source": [
        "## 1.7 Listas"
      ],
      "metadata": {
        "id": "Nh5DsZTDpb-6"
      }
    },
    {
      "cell_type": "markdown",
      "source": [
        "estruturas de dados\n",
        "\n",
        "* listas - [ ]\n",
        "* dicionarios - {}\n",
        "* tuplas - ()\n"
      ],
      "metadata": {
        "id": "VwbaANxSKN_v"
      }
    },
    {
      "cell_type": "code",
      "source": [
        "numeros = [1,2,3]"
      ],
      "metadata": {
        "id": "XLHx0hc9LFVq"
      },
      "execution_count": 1,
      "outputs": []
    },
    {
      "cell_type": "code",
      "source": [
        "numeros\n"
      ],
      "metadata": {
        "colab": {
          "base_uri": "https://localhost:8080/"
        },
        "id": "Q6sibS_qmP23",
        "outputId": "0543f019-0e06-4623-8170-697f7a5ab653"
      },
      "execution_count": 2,
      "outputs": [
        {
          "output_type": "execute_result",
          "data": {
            "text/plain": [
              "[1, 2, 3]"
            ]
          },
          "metadata": {},
          "execution_count": 2
        }
      ]
    },
    {
      "cell_type": "code",
      "source": [
        "type(numeros)"
      ],
      "metadata": {
        "colab": {
          "base_uri": "https://localhost:8080/"
        },
        "id": "h638qUKWmQrl",
        "outputId": "d6f0066f-134e-4b82-8015-fac6751d15c9"
      },
      "execution_count": 3,
      "outputs": [
        {
          "output_type": "execute_result",
          "data": {
            "text/plain": [
              "list"
            ]
          },
          "metadata": {},
          "execution_count": 3
        }
      ]
    },
    {
      "cell_type": "code",
      "source": [
        "list([1,2,3])"
      ],
      "metadata": {
        "colab": {
          "base_uri": "https://localhost:8080/"
        },
        "id": "WaI2uUOEmSeQ",
        "outputId": "8b07026b-f6c6-4623-9fd6-3dd159e1af0a"
      },
      "execution_count": 4,
      "outputs": [
        {
          "output_type": "execute_result",
          "data": {
            "text/plain": [
              "[1, 2, 3]"
            ]
          },
          "metadata": {},
          "execution_count": 4
        }
      ]
    },
    {
      "cell_type": "code",
      "source": [
        "mix = [1,2,3.14,\"Python\",True]"
      ],
      "metadata": {
        "id": "rMx0qchGmXbv"
      },
      "execution_count": 5,
      "outputs": []
    },
    {
      "cell_type": "code",
      "source": [
        "type(mix)"
      ],
      "metadata": {
        "colab": {
          "base_uri": "https://localhost:8080/"
        },
        "id": "5O9v_R-1mgRu",
        "outputId": "1e44e54b-d2fa-461f-d0e7-e5d3731091b4"
      },
      "execution_count": 6,
      "outputs": [
        {
          "output_type": "execute_result",
          "data": {
            "text/plain": [
              "list"
            ]
          },
          "metadata": {},
          "execution_count": 6
        }
      ]
    },
    {
      "cell_type": "code",
      "source": [
        "acoes = [\"PETR4\",\"VALE3\",\"MGLU3\"]"
      ],
      "metadata": {
        "id": "dprm7Hrdmhke"
      },
      "execution_count": 7,
      "outputs": []
    },
    {
      "cell_type": "code",
      "source": [
        "acoes"
      ],
      "metadata": {
        "colab": {
          "base_uri": "https://localhost:8080/"
        },
        "id": "6QtZeDDQm2Mo",
        "outputId": "66df220c-c92a-4fad-db7b-94c9822da937"
      },
      "execution_count": 8,
      "outputs": [
        {
          "output_type": "execute_result",
          "data": {
            "text/plain": [
              "['PETR4', 'VALE3', 'MGLU3']"
            ]
          },
          "metadata": {},
          "execution_count": 8
        }
      ]
    },
    {
      "cell_type": "code",
      "source": [
        "acoes[0]"
      ],
      "metadata": {
        "colab": {
          "base_uri": "https://localhost:8080/",
          "height": 36
        },
        "id": "z9KmPXDEm312",
        "outputId": "bbaf9557-9b11-4de9-c111-349aab40c0ea"
      },
      "execution_count": 9,
      "outputs": [
        {
          "output_type": "execute_result",
          "data": {
            "text/plain": [
              "'PETR4'"
            ],
            "application/vnd.google.colaboratory.intrinsic+json": {
              "type": "string"
            }
          },
          "metadata": {},
          "execution_count": 9
        }
      ]
    },
    {
      "cell_type": "code",
      "source": [
        "acoes[-1]"
      ],
      "metadata": {
        "colab": {
          "base_uri": "https://localhost:8080/",
          "height": 36
        },
        "id": "ii6hoanBm7Mn",
        "outputId": "ad568784-14d0-40ec-c462-cc651558ed4b"
      },
      "execution_count": 10,
      "outputs": [
        {
          "output_type": "execute_result",
          "data": {
            "text/plain": [
              "'MGLU3'"
            ],
            "application/vnd.google.colaboratory.intrinsic+json": {
              "type": "string"
            }
          },
          "metadata": {},
          "execution_count": 10
        }
      ]
    },
    {
      "cell_type": "code",
      "source": [
        "acoes[-2]"
      ],
      "metadata": {
        "colab": {
          "base_uri": "https://localhost:8080/",
          "height": 36
        },
        "id": "21MBR9bcnY4t",
        "outputId": "20ddf84f-ae9f-41e8-a99f-1f267d7d9f06"
      },
      "execution_count": 11,
      "outputs": [
        {
          "output_type": "execute_result",
          "data": {
            "text/plain": [
              "'VALE3'"
            ],
            "application/vnd.google.colaboratory.intrinsic+json": {
              "type": "string"
            }
          },
          "metadata": {},
          "execution_count": 11
        }
      ]
    },
    {
      "cell_type": "code",
      "source": [
        "type(mix[3])"
      ],
      "metadata": {
        "colab": {
          "base_uri": "https://localhost:8080/"
        },
        "id": "ZNhT-Q6bnc0M",
        "outputId": "83c707dc-fab9-4997-a83e-fbd0e7daac99"
      },
      "execution_count": 12,
      "outputs": [
        {
          "output_type": "execute_result",
          "data": {
            "text/plain": [
              "str"
            ]
          },
          "metadata": {},
          "execution_count": 12
        }
      ]
    },
    {
      "cell_type": "code",
      "source": [
        "type(mix[-1])"
      ],
      "metadata": {
        "colab": {
          "base_uri": "https://localhost:8080/"
        },
        "id": "p22Cyi1mnnBl",
        "outputId": "3932cb07-b6fa-484a-cf05-b6091c47a756"
      },
      "execution_count": 13,
      "outputs": [
        {
          "output_type": "execute_result",
          "data": {
            "text/plain": [
              "bool"
            ]
          },
          "metadata": {},
          "execution_count": 13
        }
      ]
    },
    {
      "cell_type": "code",
      "source": [
        "\"Hoje comprei as ações \" + acoes[2] + \" e \" + acoes[1]"
      ],
      "metadata": {
        "colab": {
          "base_uri": "https://localhost:8080/",
          "height": 36
        },
        "id": "9losq5Oanqhd",
        "outputId": "2d202678-c7ef-44c5-deb7-2bab8be79129"
      },
      "execution_count": 14,
      "outputs": [
        {
          "output_type": "execute_result",
          "data": {
            "text/plain": [
              "'Hoje comprei as ações MGLU3 e VALE3'"
            ],
            "application/vnd.google.colaboratory.intrinsic+json": {
              "type": "string"
            }
          },
          "metadata": {},
          "execution_count": 14
        }
      ]
    },
    {
      "cell_type": "code",
      "source": [
        "precos = [12.34,11.10,1.50]"
      ],
      "metadata": {
        "id": "7qaUozjkn1zf"
      },
      "execution_count": 16,
      "outputs": []
    },
    {
      "cell_type": "code",
      "source": [
        "\"Hoje comprei as ações \" + acoes[2] + \" e \" + acoes[1] + \" que custam \" + str(precos[2]) + \" e \" + str(precos[1]) + ', respectivamente.'"
      ],
      "metadata": {
        "colab": {
          "base_uri": "https://localhost:8080/",
          "height": 36
        },
        "id": "dzXmV6yFoScN",
        "outputId": "e39fd242-f0b6-4881-e316-114190b12313"
      },
      "execution_count": 18,
      "outputs": [
        {
          "output_type": "execute_result",
          "data": {
            "text/plain": [
              "'Hoje comprei as ações MGLU3 e VALE3 que custam 1.5 e 11.1, respectivamente.'"
            ],
            "application/vnd.google.colaboratory.intrinsic+json": {
              "type": "string"
            }
          },
          "metadata": {},
          "execution_count": 18
        }
      ]
    },
    {
      "cell_type": "code",
      "source": [
        "precos[2] = 21.34"
      ],
      "metadata": {
        "id": "HEWdtzogojkV"
      },
      "execution_count": 19,
      "outputs": []
    },
    {
      "cell_type": "code",
      "source": [
        "acoes.append(\"BBAS3\")"
      ],
      "metadata": {
        "id": "Tcmud4wVpamL"
      },
      "execution_count": 20,
      "outputs": []
    },
    {
      "cell_type": "code",
      "source": [
        "novas_acoes = [\"ITUB4\",\"BBDC4\"]"
      ],
      "metadata": {
        "id": "L-iEOcotpf_8"
      },
      "execution_count": 21,
      "outputs": []
    },
    {
      "cell_type": "code",
      "source": [
        "acoes_totais = acoes + novas_acoes"
      ],
      "metadata": {
        "id": "OtDmr7Wipoij"
      },
      "execution_count": 22,
      "outputs": []
    },
    {
      "cell_type": "code",
      "source": [
        "acoes_totais"
      ],
      "metadata": {
        "colab": {
          "base_uri": "https://localhost:8080/"
        },
        "id": "l6Vf5V06pspN",
        "outputId": "b2b4230b-d0bb-4840-f1fa-bf76c68f46c0"
      },
      "execution_count": 23,
      "outputs": [
        {
          "output_type": "execute_result",
          "data": {
            "text/plain": [
              "['PETR4', 'VALE3', 'MGLU3', 'BBAS3', 'ITUB4', 'BBDC4']"
            ]
          },
          "metadata": {},
          "execution_count": 23
        }
      ]
    },
    {
      "cell_type": "code",
      "source": [
        "acoes_totais.append(precos)"
      ],
      "metadata": {
        "id": "xro-GMaWpumk"
      },
      "execution_count": 24,
      "outputs": []
    },
    {
      "cell_type": "code",
      "source": [
        "acoes_totais"
      ],
      "metadata": {
        "colab": {
          "base_uri": "https://localhost:8080/"
        },
        "id": "XsghFctBqvAa",
        "outputId": "3d586a54-cc81-4b56-b69a-0b1d8c2bd20e"
      },
      "execution_count": 25,
      "outputs": [
        {
          "output_type": "execute_result",
          "data": {
            "text/plain": [
              "['PETR4', 'VALE3', 'MGLU3', 'BBAS3', 'ITUB4', 'BBDC4', [12.34, 11.1, 21.34]]"
            ]
          },
          "metadata": {},
          "execution_count": 25
        }
      ]
    },
    {
      "cell_type": "code",
      "source": [
        "acoes_totais.pop()"
      ],
      "metadata": {
        "colab": {
          "base_uri": "https://localhost:8080/"
        },
        "id": "G_MNClt2qwS0",
        "outputId": "029fc393-4387-4d44-9c79-96ce3861802a"
      },
      "execution_count": 26,
      "outputs": [
        {
          "output_type": "execute_result",
          "data": {
            "text/plain": [
              "[12.34, 11.1, 21.34]"
            ]
          },
          "metadata": {},
          "execution_count": 26
        }
      ]
    },
    {
      "cell_type": "code",
      "source": [
        "acoes_totais"
      ],
      "metadata": {
        "colab": {
          "base_uri": "https://localhost:8080/"
        },
        "id": "1SHIBhc-qzbi",
        "outputId": "06dbed3c-b33e-4acc-8db6-4c3d987bd3f2"
      },
      "execution_count": 27,
      "outputs": [
        {
          "output_type": "execute_result",
          "data": {
            "text/plain": [
              "['PETR4', 'VALE3', 'MGLU3', 'BBAS3', 'ITUB4', 'BBDC4']"
            ]
          },
          "metadata": {},
          "execution_count": 27
        }
      ]
    },
    {
      "cell_type": "code",
      "source": [
        "acoes_totais.append(list(precos))"
      ],
      "metadata": {
        "id": "aDj-M1Adq0rE"
      },
      "execution_count": 28,
      "outputs": []
    },
    {
      "cell_type": "code",
      "source": [
        "acoes_totais"
      ],
      "metadata": {
        "colab": {
          "base_uri": "https://localhost:8080/"
        },
        "id": "BvA5Nobjq57l",
        "outputId": "e9a89a85-9b27-40d1-d313-a991d986a1ca"
      },
      "execution_count": 29,
      "outputs": [
        {
          "output_type": "execute_result",
          "data": {
            "text/plain": [
              "['PETR4', 'VALE3', 'MGLU3', 'BBAS3', 'ITUB4', 'BBDC4', [12.34, 11.1, 21.34]]"
            ]
          },
          "metadata": {},
          "execution_count": 29
        }
      ]
    },
    {
      "cell_type": "code",
      "source": [
        "precos.sort()"
      ],
      "metadata": {
        "id": "M6i31K6jq7Vy"
      },
      "execution_count": 30,
      "outputs": []
    },
    {
      "cell_type": "code",
      "source": [
        "precos"
      ],
      "metadata": {
        "colab": {
          "base_uri": "https://localhost:8080/"
        },
        "id": "grVM_6QhriPb",
        "outputId": "e6aac928-e906-495c-ddd1-1e6350211141"
      },
      "execution_count": 31,
      "outputs": [
        {
          "output_type": "execute_result",
          "data": {
            "text/plain": [
              "[11.1, 12.34, 21.34]"
            ]
          },
          "metadata": {},
          "execution_count": 31
        }
      ]
    },
    {
      "cell_type": "code",
      "source": [
        "precos.reverse()"
      ],
      "metadata": {
        "id": "M-9IabOfrkXD"
      },
      "execution_count": 32,
      "outputs": []
    },
    {
      "cell_type": "code",
      "source": [
        "precos"
      ],
      "metadata": {
        "colab": {
          "base_uri": "https://localhost:8080/"
        },
        "id": "Smjm3UaHrnGR",
        "outputId": "571e5a03-5bde-411e-bbed-ff4c708594c0"
      },
      "execution_count": 33,
      "outputs": [
        {
          "output_type": "execute_result",
          "data": {
            "text/plain": [
              "[21.34, 12.34, 11.1]"
            ]
          },
          "metadata": {},
          "execution_count": 33
        }
      ]
    },
    {
      "cell_type": "code",
      "source": [
        "clientes01 = ['PETR4','VALE3','MGLU3']\n",
        "clientes02 = ['GOAU4','MGLU3','ABEV3']\n",
        "clientes03 = ['ITUB4','PRIO3','WEGE3']"
      ],
      "metadata": {
        "id": "lTri5lp8roNE"
      },
      "execution_count": 36,
      "outputs": []
    },
    {
      "cell_type": "code",
      "source": [
        "clientes = [clientes01,clientes02,clientes03]"
      ],
      "metadata": {
        "id": "y0YkRg2isFIR"
      },
      "execution_count": 37,
      "outputs": []
    },
    {
      "cell_type": "code",
      "source": [
        "clientes[0]"
      ],
      "metadata": {
        "colab": {
          "base_uri": "https://localhost:8080/"
        },
        "id": "8Qb3wFUEsHlb",
        "outputId": "0191e619-4633-4468-cb3c-8b1e7eae3d21"
      },
      "execution_count": 38,
      "outputs": [
        {
          "output_type": "execute_result",
          "data": {
            "text/plain": [
              "['PETR4', 'VALE3', 'MGLU3']"
            ]
          },
          "metadata": {},
          "execution_count": 38
        }
      ]
    },
    {
      "cell_type": "code",
      "source": [
        "clientes[0][1]"
      ],
      "metadata": {
        "colab": {
          "base_uri": "https://localhost:8080/",
          "height": 36
        },
        "id": "sbYlI2WxsNHo",
        "outputId": "de722bea-593a-40aa-b764-1fa462a1a905"
      },
      "execution_count": 39,
      "outputs": [
        {
          "output_type": "execute_result",
          "data": {
            "text/plain": [
              "'VALE3'"
            ],
            "application/vnd.google.colaboratory.intrinsic+json": {
              "type": "string"
            }
          },
          "metadata": {},
          "execution_count": 39
        }
      ]
    },
    {
      "cell_type": "markdown",
      "source": [
        "operador in"
      ],
      "metadata": {
        "id": "aSpa9x5KsQlh"
      }
    },
    {
      "cell_type": "code",
      "source": [
        "acoes"
      ],
      "metadata": {
        "colab": {
          "base_uri": "https://localhost:8080/"
        },
        "id": "jfnjlbybsg1J",
        "outputId": "de9d54e0-38f0-4a0b-d63a-b0d7e6fe2e1e"
      },
      "execution_count": 40,
      "outputs": [
        {
          "output_type": "execute_result",
          "data": {
            "text/plain": [
              "['PETR4', 'VALE3', 'MGLU3', 'BBAS3']"
            ]
          },
          "metadata": {},
          "execution_count": 40
        }
      ]
    },
    {
      "cell_type": "code",
      "source": [
        "'PETR4' in acoes"
      ],
      "metadata": {
        "colab": {
          "base_uri": "https://localhost:8080/"
        },
        "id": "uZUBKedpsjty",
        "outputId": "256a937c-ad92-44f5-a7d6-8a3160a6d9c4"
      },
      "execution_count": 41,
      "outputs": [
        {
          "output_type": "execute_result",
          "data": {
            "text/plain": [
              "True"
            ]
          },
          "metadata": {},
          "execution_count": 41
        }
      ]
    },
    {
      "cell_type": "code",
      "source": [
        "'WEGE3' in acoes"
      ],
      "metadata": {
        "colab": {
          "base_uri": "https://localhost:8080/"
        },
        "id": "_lUhfI73snwS",
        "outputId": "f28dff10-561c-40a4-91af-5158cc708ca1"
      },
      "execution_count": 43,
      "outputs": [
        {
          "output_type": "execute_result",
          "data": {
            "text/plain": [
              "False"
            ]
          },
          "metadata": {},
          "execution_count": 43
        }
      ]
    },
    {
      "cell_type": "markdown",
      "source": [
        "## 1.8 Dicionários"
      ],
      "metadata": {
        "id": "twhf44evstkU"
      }
    },
    {
      "cell_type": "markdown",
      "source": [
        "representa uma estrutura de pares de dados:\n",
        "\n",
        "* Key: chave\n",
        "* value: valor"
      ],
      "metadata": {
        "id": "4FFodVwA-4h5"
      }
    },
    {
      "cell_type": "code",
      "source": [
        "precos_acoes = {'MGLU':2.28, 'PETR4':23.07, 'VALE3':85.75}"
      ],
      "metadata": {
        "id": "eiRI0gx9Cj28"
      },
      "execution_count": 44,
      "outputs": []
    },
    {
      "cell_type": "code",
      "source": [
        "precos_acoes"
      ],
      "metadata": {
        "colab": {
          "base_uri": "https://localhost:8080/"
        },
        "id": "MwyfYJKYDY44",
        "outputId": "1513e21e-ae2e-4334-d935-817dfcec157f"
      },
      "execution_count": 45,
      "outputs": [
        {
          "output_type": "execute_result",
          "data": {
            "text/plain": [
              "{'MGLU': 2.28, 'PETR4': 23.07, 'VALE3': 85.75}"
            ]
          },
          "metadata": {},
          "execution_count": 45
        }
      ]
    },
    {
      "cell_type": "code",
      "source": [
        "type(precos_acoes)"
      ],
      "metadata": {
        "colab": {
          "base_uri": "https://localhost:8080/"
        },
        "id": "o--uBCHADaic",
        "outputId": "4e408bb1-f33f-478c-bccc-11f603db9f05"
      },
      "execution_count": 47,
      "outputs": [
        {
          "output_type": "execute_result",
          "data": {
            "text/plain": [
              "dict"
            ]
          },
          "metadata": {},
          "execution_count": 47
        }
      ]
    },
    {
      "cell_type": "code",
      "source": [
        "precos_acoes.keys()"
      ],
      "metadata": {
        "colab": {
          "base_uri": "https://localhost:8080/"
        },
        "id": "vBqkAtUcDcFX",
        "outputId": "4371472f-39ed-4747-91f8-5ae8fee97393"
      },
      "execution_count": 49,
      "outputs": [
        {
          "output_type": "execute_result",
          "data": {
            "text/plain": [
              "dict_keys(['MGLU', 'PETR4', 'VALE3'])"
            ]
          },
          "metadata": {},
          "execution_count": 49
        }
      ]
    },
    {
      "cell_type": "code",
      "source": [
        "lista_precos = list(precos_acoes.values())"
      ],
      "metadata": {
        "id": "z-4Zw-lsDjK-"
      },
      "execution_count": 50,
      "outputs": []
    },
    {
      "cell_type": "code",
      "source": [
        "type(lista_precos)"
      ],
      "metadata": {
        "colab": {
          "base_uri": "https://localhost:8080/"
        },
        "id": "NKBdGVgTDuib",
        "outputId": "6f0f25a9-29d6-45bd-975b-476271854de5"
      },
      "execution_count": 51,
      "outputs": [
        {
          "output_type": "execute_result",
          "data": {
            "text/plain": [
              "list"
            ]
          },
          "metadata": {},
          "execution_count": 51
        }
      ]
    },
    {
      "cell_type": "code",
      "source": [
        "lista_precos"
      ],
      "metadata": {
        "colab": {
          "base_uri": "https://localhost:8080/"
        },
        "id": "0wpgh2C0Dxcn",
        "outputId": "fa94b561-5faa-4585-eeb9-edd0808e7589"
      },
      "execution_count": 52,
      "outputs": [
        {
          "output_type": "execute_result",
          "data": {
            "text/plain": [
              "[2.28, 23.07, 85.75]"
            ]
          },
          "metadata": {},
          "execution_count": 52
        }
      ]
    },
    {
      "cell_type": "code",
      "source": [
        "precos_acoes['MGLU']"
      ],
      "metadata": {
        "colab": {
          "base_uri": "https://localhost:8080/"
        },
        "id": "hS69lrlyDy-1",
        "outputId": "cc679c00-3d5f-453e-df57-7d86a5b12759"
      },
      "execution_count": 53,
      "outputs": [
        {
          "output_type": "execute_result",
          "data": {
            "text/plain": [
              "2.28"
            ]
          },
          "metadata": {},
          "execution_count": 53
        }
      ]
    },
    {
      "cell_type": "markdown",
      "source": [
        "## 1.9 Tuplas"
      ],
      "metadata": {
        "id": "NKXlxxiFFQgM"
      }
    },
    {
      "cell_type": "code",
      "source": [
        "tupla = ()"
      ],
      "metadata": {
        "id": "E3ZgPjnFMCmU"
      },
      "execution_count": 54,
      "outputs": []
    },
    {
      "cell_type": "code",
      "source": [
        "type(tupla)"
      ],
      "metadata": {
        "colab": {
          "base_uri": "https://localhost:8080/"
        },
        "id": "wMVAAeZ5RHC4",
        "outputId": "e7cbf6bd-00d1-4dee-f05e-377382e70f36"
      },
      "execution_count": 55,
      "outputs": [
        {
          "output_type": "execute_result",
          "data": {
            "text/plain": [
              "tuple"
            ]
          },
          "metadata": {},
          "execution_count": 55
        }
      ]
    },
    {
      "cell_type": "code",
      "source": [
        "lista = [1,2,3]"
      ],
      "metadata": {
        "id": "2HAVl-F-RIpD"
      },
      "execution_count": 56,
      "outputs": []
    },
    {
      "cell_type": "code",
      "source": [
        "lista"
      ],
      "metadata": {
        "colab": {
          "base_uri": "https://localhost:8080/"
        },
        "id": "q2r4jagqRRTf",
        "outputId": "3f3b5de8-91a3-4701-a093-729b0c50dc30"
      },
      "execution_count": 57,
      "outputs": [
        {
          "output_type": "execute_result",
          "data": {
            "text/plain": [
              "[1, 2, 3]"
            ]
          },
          "metadata": {},
          "execution_count": 57
        }
      ]
    },
    {
      "cell_type": "code",
      "source": [
        "tuple(lista)"
      ],
      "metadata": {
        "colab": {
          "base_uri": "https://localhost:8080/"
        },
        "id": "LqvFcRzFRShA",
        "outputId": "89baeb10-e574-4c78-95a7-9f5116b1cc04"
      },
      "execution_count": 58,
      "outputs": [
        {
          "output_type": "execute_result",
          "data": {
            "text/plain": [
              "(1, 2, 3)"
            ]
          },
          "metadata": {},
          "execution_count": 58
        }
      ]
    },
    {
      "cell_type": "code",
      "source": [
        "tupla_acoes = tuple(acoes)"
      ],
      "metadata": {
        "id": "SsdDY1SIRVj_"
      },
      "execution_count": 59,
      "outputs": []
    },
    {
      "cell_type": "code",
      "source": [
        "tupla_acoes"
      ],
      "metadata": {
        "colab": {
          "base_uri": "https://localhost:8080/"
        },
        "id": "NpYn1fumRaFo",
        "outputId": "385477e5-88e0-4318-f256-7a998dcb1104"
      },
      "execution_count": 60,
      "outputs": [
        {
          "output_type": "execute_result",
          "data": {
            "text/plain": [
              "('PETR4', 'VALE3', 'MGLU3', 'BBAS3')"
            ]
          },
          "metadata": {},
          "execution_count": 60
        }
      ]
    },
    {
      "cell_type": "code",
      "source": [
        "tupla_acoes[0]"
      ],
      "metadata": {
        "colab": {
          "base_uri": "https://localhost:8080/",
          "height": 36
        },
        "id": "Nsv-4kheRbkw",
        "outputId": "d3bd2fc7-5472-4bd4-b91a-69fa662dae5c"
      },
      "execution_count": 61,
      "outputs": [
        {
          "output_type": "execute_result",
          "data": {
            "text/plain": [
              "'PETR4'"
            ],
            "application/vnd.google.colaboratory.intrinsic+json": {
              "type": "string"
            }
          },
          "metadata": {},
          "execution_count": 61
        }
      ]
    },
    {
      "cell_type": "code",
      "source": [
        "indice_ibov = ('BBSE3','BRAP4','BBAS3','CXSE3','CMIG4','CPLE6','CPFE3','CMIN3','EGIE3','GGBR4','GOAU4','ISAE4','ITSA4','MRFG3','PETR4','SANB11','CSNA3','TAEE11','VIVT3','VALE3','VBBR3')"
      ],
      "metadata": {
        "id": "u1MJriFKRkZ4"
      },
      "execution_count": 63,
      "outputs": []
    },
    {
      "cell_type": "code",
      "source": [
        "indice_ibov.index('ITSA4')"
      ],
      "metadata": {
        "colab": {
          "base_uri": "https://localhost:8080/"
        },
        "id": "elCwS9SYWclU",
        "outputId": "4d731799-7d49-4135-9e2a-8f7807ab5906"
      },
      "execution_count": 64,
      "outputs": [
        {
          "output_type": "execute_result",
          "data": {
            "text/plain": [
              "12"
            ]
          },
          "metadata": {},
          "execution_count": 64
        }
      ]
    },
    {
      "cell_type": "code",
      "source": [
        "indice_ibov[10]"
      ],
      "metadata": {
        "colab": {
          "base_uri": "https://localhost:8080/",
          "height": 36
        },
        "id": "veiRw3ZiWowM",
        "outputId": "ea08bced-50a7-4c59-f3d6-9005cee28a46"
      },
      "execution_count": 67,
      "outputs": [
        {
          "output_type": "execute_result",
          "data": {
            "text/plain": [
              "'GOAU4'"
            ],
            "application/vnd.google.colaboratory.intrinsic+json": {
              "type": "string"
            }
          },
          "metadata": {},
          "execution_count": 67
        }
      ]
    },
    {
      "cell_type": "markdown",
      "source": [
        "## 1.10 Conjuntos"
      ],
      "metadata": {
        "id": "4rLVwUFFXNjs"
      }
    },
    {
      "cell_type": "markdown",
      "source": [
        "Um conjunto (set) é uma coleção não ordenada de elementos únicos. É criado usando chaves {} ou a função set(). Não existe um índice para acessar elementos em um conjunto.Permite adição e remoção de elementos, mas não permite duplicatas."
      ],
      "metadata": {
        "id": "yahBI6XdZcUp"
      }
    },
    {
      "cell_type": "code",
      "source": [
        "{1,2,3}"
      ],
      "metadata": {
        "colab": {
          "base_uri": "https://localhost:8080/"
        },
        "id": "3Pthgn9fr-oh",
        "outputId": "06513aba-984e-4b02-b255-5c58642cca00"
      },
      "execution_count": 68,
      "outputs": [
        {
          "output_type": "execute_result",
          "data": {
            "text/plain": [
              "{1, 2, 3}"
            ]
          },
          "metadata": {},
          "execution_count": 68
        }
      ]
    },
    {
      "cell_type": "code",
      "source": [
        "type({1,2,3})"
      ],
      "metadata": {
        "colab": {
          "base_uri": "https://localhost:8080/"
        },
        "id": "evkOOM2GsGfJ",
        "outputId": "223f6644-9e51-4361-c81e-a9a356ab313a"
      },
      "execution_count": 69,
      "outputs": [
        {
          "output_type": "execute_result",
          "data": {
            "text/plain": [
              "set"
            ]
          },
          "metadata": {},
          "execution_count": 69
        }
      ]
    },
    {
      "cell_type": "code",
      "source": [
        "set([1,2,3])"
      ],
      "metadata": {
        "colab": {
          "base_uri": "https://localhost:8080/"
        },
        "id": "xgzKF-dlsNn5",
        "outputId": "ea812680-cc12-44d8-fcd9-faa27b0a445f"
      },
      "execution_count": 70,
      "outputs": [
        {
          "output_type": "execute_result",
          "data": {
            "text/plain": [
              "{1, 2, 3}"
            ]
          },
          "metadata": {},
          "execution_count": 70
        }
      ]
    },
    {
      "cell_type": "markdown",
      "source": [
        "Com set precisa passar uma lista ou tupla"
      ],
      "metadata": {
        "id": "dRzAmBhBsTRw"
      }
    },
    {
      "cell_type": "code",
      "source": [
        "tupla = (1,2,3)"
      ],
      "metadata": {
        "id": "U1eaIqhVsicH"
      },
      "execution_count": 71,
      "outputs": []
    },
    {
      "cell_type": "code",
      "source": [
        "conjunto = set(tupla)"
      ],
      "metadata": {
        "id": "A0F4gET7sp5f"
      },
      "execution_count": 72,
      "outputs": []
    },
    {
      "cell_type": "code",
      "source": [
        "acoes = set([\"PETR4\",\"VALE3\",\"MGLU3\",\"PETR4\",\"VALE3\",\"MGLU3\"])"
      ],
      "metadata": {
        "id": "G1Xbc17ksscQ"
      },
      "execution_count": 74,
      "outputs": []
    },
    {
      "cell_type": "code",
      "source": [
        "acoes"
      ],
      "metadata": {
        "colab": {
          "base_uri": "https://localhost:8080/"
        },
        "id": "zsS0ELLZs6eg",
        "outputId": "09245a39-4edb-4c56-d3a5-c36293bae568"
      },
      "execution_count": 75,
      "outputs": [
        {
          "output_type": "execute_result",
          "data": {
            "text/plain": [
              "{'MGLU3', 'PETR4', 'VALE3'}"
            ]
          },
          "metadata": {},
          "execution_count": 75
        }
      ]
    },
    {
      "cell_type": "code",
      "source": [
        "acoes.add('ITUB4')"
      ],
      "metadata": {
        "id": "4GgRLJWrtCng"
      },
      "execution_count": 77,
      "outputs": []
    },
    {
      "cell_type": "code",
      "source": [
        "acoes"
      ],
      "metadata": {
        "colab": {
          "base_uri": "https://localhost:8080/"
        },
        "id": "g77inpgxtJY2",
        "outputId": "ec2609b1-578e-413a-de40-2226781e2ad0"
      },
      "execution_count": 78,
      "outputs": [
        {
          "output_type": "execute_result",
          "data": {
            "text/plain": [
              "{'ITUB4', 'MGLU3', 'PETR4', 'VALE3'}"
            ]
          },
          "metadata": {},
          "execution_count": 78
        }
      ]
    },
    {
      "cell_type": "code",
      "source": [
        "acoes.add(('ITUB4',\"PETR4\",\"VALE3\",\"MGLU3\",\"PETR4\",\"VALE3\",\"MGLU3\"))"
      ],
      "metadata": {
        "id": "qNDeKD7RtNmn"
      },
      "execution_count": 80,
      "outputs": []
    },
    {
      "cell_type": "code",
      "source": [
        "acoes"
      ],
      "metadata": {
        "colab": {
          "base_uri": "https://localhost:8080/"
        },
        "id": "5GEL_9bWtXhO",
        "outputId": "42a65fa1-2abd-4391-9046-b294c08fba3b"
      },
      "execution_count": 81,
      "outputs": [
        {
          "output_type": "execute_result",
          "data": {
            "text/plain": [
              "{('ITUB4', 'PETR4', 'VALE3', 'MGLU3', 'PETR4', 'VALE3', 'MGLU3'),\n",
              " 'ITUB4',\n",
              " 'MGLU3',\n",
              " 'PETR4',\n",
              " 'VALE3'}"
            ]
          },
          "metadata": {},
          "execution_count": 81
        }
      ]
    },
    {
      "cell_type": "code",
      "source": [
        "acoes.update(['ITUB4',\"PETR4\",\"VALE3\",\"MGLU3\",\"PETR4\",\"VALE3\",\"MGLU3\"])"
      ],
      "metadata": {
        "id": "2dGHSsdXthp2"
      },
      "execution_count": 82,
      "outputs": []
    },
    {
      "cell_type": "code",
      "source": [
        "acoes"
      ],
      "metadata": {
        "colab": {
          "base_uri": "https://localhost:8080/"
        },
        "id": "xAweXcV5txzX",
        "outputId": "cdf55428-fef2-434f-fd6e-def0883972c3"
      },
      "execution_count": 83,
      "outputs": [
        {
          "output_type": "execute_result",
          "data": {
            "text/plain": [
              "{('ITUB4', 'PETR4', 'VALE3', 'MGLU3', 'PETR4', 'VALE3', 'MGLU3'),\n",
              " 'ITUB4',\n",
              " 'MGLU3',\n",
              " 'PETR4',\n",
              " 'VALE3'}"
            ]
          },
          "metadata": {},
          "execution_count": 83
        }
      ]
    },
    {
      "cell_type": "code",
      "source": [
        "acoes.remove(('ITUB4', 'PETR4', 'VALE3', 'MGLU3', 'PETR4', 'VALE3', 'MGLU3'))"
      ],
      "metadata": {
        "id": "7EBbGfi5tzA2"
      },
      "execution_count": 84,
      "outputs": []
    },
    {
      "cell_type": "code",
      "source": [
        "acoes"
      ],
      "metadata": {
        "colab": {
          "base_uri": "https://localhost:8080/"
        },
        "id": "HV7WTzu3t633",
        "outputId": "33a6cd64-12d5-480b-e5e0-c6e272b86ebb"
      },
      "execution_count": 85,
      "outputs": [
        {
          "output_type": "execute_result",
          "data": {
            "text/plain": [
              "{'ITUB4', 'MGLU3', 'PETR4', 'VALE3'}"
            ]
          },
          "metadata": {},
          "execution_count": 85
        }
      ]
    },
    {
      "cell_type": "code",
      "source": [
        "acoes.discard('ITUB4')"
      ],
      "metadata": {
        "id": "teADkINeuBd2"
      },
      "execution_count": 88,
      "outputs": []
    },
    {
      "cell_type": "code",
      "source": [
        "acoes"
      ],
      "metadata": {
        "colab": {
          "base_uri": "https://localhost:8080/"
        },
        "id": "HPn9SDA2uMdO",
        "outputId": "34c98ed1-8262-4fd4-b11d-5d3c8a4d7fe7"
      },
      "execution_count": 89,
      "outputs": [
        {
          "output_type": "execute_result",
          "data": {
            "text/plain": [
              "{'MGLU3', 'PETR4', 'VALE3'}"
            ]
          },
          "metadata": {},
          "execution_count": 89
        }
      ]
    },
    {
      "cell_type": "code",
      "source": [
        "acoes.discard('ITUB4')"
      ],
      "metadata": {
        "id": "5JeJeSTuuPPf"
      },
      "execution_count": 90,
      "outputs": []
    },
    {
      "cell_type": "code",
      "source": [
        "acoes.remove(('ITUB4', 'PETR4', 'VALE3', 'MGLU3', 'PETR4', 'VALE3', 'MGLU3'))"
      ],
      "metadata": {
        "colab": {
          "base_uri": "https://localhost:8080/",
          "height": 147
        },
        "id": "R5DZVf_MuTv4",
        "outputId": "efef6be2-c75d-4a87-955f-abfb7f71063e"
      },
      "execution_count": 91,
      "outputs": [
        {
          "output_type": "error",
          "ename": "KeyError",
          "evalue": "('ITUB4', 'PETR4', 'VALE3', 'MGLU3', 'PETR4', 'VALE3', 'MGLU3')",
          "traceback": [
            "\u001b[0;31m---------------------------------------------------------------------------\u001b[0m",
            "\u001b[0;31mKeyError\u001b[0m                                  Traceback (most recent call last)",
            "\u001b[0;32m<ipython-input-91-750e60db4431>\u001b[0m in \u001b[0;36m<cell line: 0>\u001b[0;34m()\u001b[0m\n\u001b[0;32m----> 1\u001b[0;31m \u001b[0macoes\u001b[0m\u001b[0;34m.\u001b[0m\u001b[0mremove\u001b[0m\u001b[0;34m(\u001b[0m\u001b[0;34m(\u001b[0m\u001b[0;34m'ITUB4'\u001b[0m\u001b[0;34m,\u001b[0m \u001b[0;34m'PETR4'\u001b[0m\u001b[0;34m,\u001b[0m \u001b[0;34m'VALE3'\u001b[0m\u001b[0;34m,\u001b[0m \u001b[0;34m'MGLU3'\u001b[0m\u001b[0;34m,\u001b[0m \u001b[0;34m'PETR4'\u001b[0m\u001b[0;34m,\u001b[0m \u001b[0;34m'VALE3'\u001b[0m\u001b[0;34m,\u001b[0m \u001b[0;34m'MGLU3'\u001b[0m\u001b[0;34m)\u001b[0m\u001b[0;34m)\u001b[0m\u001b[0;34m\u001b[0m\u001b[0;34m\u001b[0m\u001b[0m\n\u001b[0m",
            "\u001b[0;31mKeyError\u001b[0m: ('ITUB4', 'PETR4', 'VALE3', 'MGLU3', 'PETR4', 'VALE3', 'MGLU3')"
          ]
        }
      ]
    },
    {
      "cell_type": "markdown",
      "source": [
        "O remove rotorna erro qdo não existe o elemento e o discard não"
      ],
      "metadata": {
        "id": "w-bU--P0uWD-"
      }
    },
    {
      "cell_type": "code",
      "source": [
        "novas_acoes = set([\"ITUB4\",\"BBDC4\",'PETR4','VALE3','MGLU3','LREN4'])"
      ],
      "metadata": {
        "id": "AyP2bJ4ZucEt"
      },
      "execution_count": 98,
      "outputs": []
    },
    {
      "cell_type": "code",
      "source": [
        "print(acoes,novas_acoes)"
      ],
      "metadata": {
        "colab": {
          "base_uri": "https://localhost:8080/"
        },
        "id": "1veJfssyvW38",
        "outputId": "4f9bf1c2-7e02-4fc7-b602-e433f515472c"
      },
      "execution_count": 93,
      "outputs": [
        {
          "output_type": "stream",
          "name": "stdout",
          "text": [
            "{'MGLU3', 'PETR4', 'VALE3'} {'MGLU3', 'BBDC4', 'PETR4', 'VALE3', 'ITUB4'}\n"
          ]
        }
      ]
    },
    {
      "cell_type": "code",
      "source": [
        "acoes | novas_acoes"
      ],
      "metadata": {
        "colab": {
          "base_uri": "https://localhost:8080/"
        },
        "id": "aDFzjzxNvbOt",
        "outputId": "5ac70d6a-3be6-4c01-d605-fa58b122d04c"
      },
      "execution_count": 94,
      "outputs": [
        {
          "output_type": "execute_result",
          "data": {
            "text/plain": [
              "{'BBDC4', 'ITUB4', 'MGLU3', 'PETR4', 'VALE3'}"
            ]
          },
          "metadata": {},
          "execution_count": 94
        }
      ]
    },
    {
      "cell_type": "code",
      "source": [
        "acoes & novas_acoes"
      ],
      "metadata": {
        "colab": {
          "base_uri": "https://localhost:8080/"
        },
        "id": "LFhQ3cDAvgR2",
        "outputId": "f0d46970-a6cc-452a-804b-605844b6a0da"
      },
      "execution_count": 95,
      "outputs": [
        {
          "output_type": "execute_result",
          "data": {
            "text/plain": [
              "{'MGLU3', 'PETR4', 'VALE3'}"
            ]
          },
          "metadata": {},
          "execution_count": 95
        }
      ]
    },
    {
      "cell_type": "code",
      "source": [
        "acoes.intersection(novas_acoes)"
      ],
      "metadata": {
        "colab": {
          "base_uri": "https://localhost:8080/"
        },
        "id": "xjoYbslgvm8c",
        "outputId": "ac80462f-77b7-4580-e5ce-c9ba6d4e0e81"
      },
      "execution_count": 96,
      "outputs": [
        {
          "output_type": "execute_result",
          "data": {
            "text/plain": [
              "{'MGLU3', 'PETR4', 'VALE3'}"
            ]
          },
          "metadata": {},
          "execution_count": 96
        }
      ]
    },
    {
      "cell_type": "code",
      "source": [
        "acoes.difference(novas_acoes)"
      ],
      "metadata": {
        "colab": {
          "base_uri": "https://localhost:8080/"
        },
        "id": "W_711se-vxBM",
        "outputId": "e656661b-08e0-409e-9175-aff9c289d057"
      },
      "execution_count": 99,
      "outputs": [
        {
          "output_type": "execute_result",
          "data": {
            "text/plain": [
              "set()"
            ]
          },
          "metadata": {},
          "execution_count": 99
        }
      ]
    },
    {
      "cell_type": "code",
      "source": [
        "novas_acoes.difference(acoes)"
      ],
      "metadata": {
        "colab": {
          "base_uri": "https://localhost:8080/"
        },
        "id": "f6BpBl0RwDWN",
        "outputId": "31671751-83be-4785-e065-259aba973b08"
      },
      "execution_count": 100,
      "outputs": [
        {
          "output_type": "execute_result",
          "data": {
            "text/plain": [
              "{'BBDC4', 'ITUB4', 'LREN4'}"
            ]
          },
          "metadata": {},
          "execution_count": 100
        }
      ]
    },
    {
      "cell_type": "code",
      "source": [
        "acoes.symmetric_difference(novas_acoes)"
      ],
      "metadata": {
        "colab": {
          "base_uri": "https://localhost:8080/"
        },
        "id": "EO_TnYMowOT0",
        "outputId": "fbd59452-d4af-4193-e66b-274b8524b1dc"
      },
      "execution_count": 101,
      "outputs": [
        {
          "output_type": "execute_result",
          "data": {
            "text/plain": [
              "{'BBDC4', 'ITUB4', 'LREN4'}"
            ]
          },
          "metadata": {},
          "execution_count": 101
        }
      ]
    },
    {
      "cell_type": "markdown",
      "source": [
        "## 1.10 Declaração condicional"
      ],
      "metadata": {
        "id": "lRy2HmfOwSUs"
      }
    },
    {
      "cell_type": "code",
      "source": [
        "preco_atual = 35.17"
      ],
      "metadata": {
        "id": "H-kohzGyxRP8"
      },
      "execution_count": 102,
      "outputs": []
    },
    {
      "cell_type": "code",
      "source": [
        "if preco_atual < 28:\n",
        "    print(\"Comprar!\")"
      ],
      "metadata": {
        "id": "1uZSxRruxUN0"
      },
      "execution_count": 103,
      "outputs": []
    },
    {
      "cell_type": "code",
      "source": [
        "if preco_atual > 28:\n",
        "    print(\"Muito caro, fique de fora!\")"
      ],
      "metadata": {
        "colab": {
          "base_uri": "https://localhost:8080/"
        },
        "id": "1exWy1vOxZkj",
        "outputId": "d80c8143-b8bf-4773-e556-6a6ba4465da5"
      },
      "execution_count": 105,
      "outputs": [
        {
          "output_type": "stream",
          "name": "stdout",
          "text": [
            "Muito caro, fique de fora!\n"
          ]
        }
      ]
    },
    {
      "cell_type": "code",
      "source": [
        "if preco_atual < 28:\n",
        "    print(\"Comprar!\")\n",
        "else:\n",
        "    print(\"Muito caro, fique de fora!\")"
      ],
      "metadata": {
        "colab": {
          "base_uri": "https://localhost:8080/"
        },
        "id": "WWvgKR87xjyM",
        "outputId": "cd89a544-affa-4c31-b98f-2c54f9bf8b0d"
      },
      "execution_count": 106,
      "outputs": [
        {
          "output_type": "stream",
          "name": "stdout",
          "text": [
            "Muito caro, fique de fora!\n"
          ]
        }
      ]
    },
    {
      "cell_type": "code",
      "source": [
        "preco_weg = 35.72\n",
        "preco_alvo = 31.00"
      ],
      "metadata": {
        "id": "lyrb2GZcxsaM"
      },
      "execution_count": 118,
      "outputs": []
    },
    {
      "cell_type": "code",
      "source": [
        "if preco_weg <= 31:\n",
        "    print(\"Comprar!\")\n",
        "elif preco_weg < 33 :\n",
        "    print(\"Aguarde!\")\n",
        "elif preco_weg < 35 :\n",
        "    print(\"Incio de queda!\")\n",
        "else:\n",
        "    print(\"Muito caro, fique de fora!\")"
      ],
      "metadata": {
        "colab": {
          "base_uri": "https://localhost:8080/"
        },
        "id": "Lp4P7qdXzHKD",
        "outputId": "b39e71d3-1dca-472e-9103-68c0f63c027b"
      },
      "execution_count": 119,
      "outputs": [
        {
          "output_type": "stream",
          "name": "stdout",
          "text": [
            "Muito caro, fique de fora!\n"
          ]
        }
      ]
    },
    {
      "cell_type": "code",
      "source": [
        "preco_weg = 30"
      ],
      "metadata": {
        "id": "Aui9xNb00MGD"
      },
      "execution_count": 121,
      "outputs": []
    },
    {
      "cell_type": "code",
      "source": [
        "if preco_weg <= preco_alvo:\n",
        "    print(\"Comprar! \")\n",
        "elif preco_weg < (preco_alvo + 2) :\n",
        "    print(\"Aguarde! \")\n",
        "elif preco_weg < (preco_alvo + 4) :\n",
        "    print(\"Incio de queda! \")\n",
        "else:\n",
        "    print(\"Muito caro, fique de fora! \")"
      ],
      "metadata": {
        "colab": {
          "base_uri": "https://localhost:8080/"
        },
        "id": "wLqnVWt4zhzE",
        "outputId": "594c7ba6-e70b-4724-bbf3-8b4af5773fb4"
      },
      "execution_count": 122,
      "outputs": [
        {
          "output_type": "stream",
          "name": "stdout",
          "text": [
            "Comprar!\n"
          ]
        }
      ]
    },
    {
      "cell_type": "markdown",
      "source": [
        "## 1.11 Estruturas de repetição (for e while)"
      ],
      "metadata": {
        "id": "-8XcEqa40G3h"
      }
    },
    {
      "cell_type": "markdown",
      "source": [
        "### 1.11.1 For"
      ],
      "metadata": {
        "id": "yqL8gxLblegM"
      }
    },
    {
      "cell_type": "code",
      "source": [
        "lista = [1,2,3,4,5]"
      ],
      "metadata": {
        "id": "QoAWdVNIll37"
      },
      "execution_count": 1,
      "outputs": []
    },
    {
      "cell_type": "code",
      "source": [
        "for i in lista:\n",
        "    print(i)"
      ],
      "metadata": {
        "colab": {
          "base_uri": "https://localhost:8080/"
        },
        "id": "n581QfsIlolC",
        "outputId": "33108bef-5ad1-4ede-df58-d98ac71ef6ee"
      },
      "execution_count": 5,
      "outputs": [
        {
          "output_type": "stream",
          "name": "stdout",
          "text": [
            "1\n",
            "2\n",
            "3\n",
            "4\n",
            "5\n"
          ]
        }
      ]
    },
    {
      "cell_type": "markdown",
      "source": [
        "Coloque um '.SA' no final de cada elemento da lista"
      ],
      "metadata": {
        "id": "x7HZCJXOm681"
      }
    },
    {
      "cell_type": "code",
      "source": [
        "acoes = [\"PETR4\",\"VALE3\",\"MGLU3\"]"
      ],
      "metadata": {
        "id": "C3Ei3EfYm655"
      },
      "execution_count": 7,
      "outputs": []
    },
    {
      "cell_type": "code",
      "source": [
        "for i in acoes:\n",
        "    print(i + \".SA\")"
      ],
      "metadata": {
        "colab": {
          "base_uri": "https://localhost:8080/"
        },
        "id": "iX5sWWY1m62Z",
        "outputId": "e95879c0-24a3-442e-cc8d-045532992e37"
      },
      "execution_count": 8,
      "outputs": [
        {
          "output_type": "stream",
          "name": "stdout",
          "text": [
            "PETR4.SA\n",
            "VALE3.SA\n",
            "MGLU3.SA\n"
          ]
        }
      ]
    },
    {
      "cell_type": "code",
      "source": [
        "acoes_nova = []"
      ],
      "metadata": {
        "id": "holkj3Jzm6zA"
      },
      "execution_count": 9,
      "outputs": []
    },
    {
      "cell_type": "code",
      "source": [
        "for i in acoes:\n",
        "    acoes_nova.append(i + \".SA\")"
      ],
      "metadata": {
        "id": "hy4zYv3_m6lY"
      },
      "execution_count": 10,
      "outputs": []
    },
    {
      "cell_type": "code",
      "source": [
        "acoes_nova"
      ],
      "metadata": {
        "colab": {
          "base_uri": "https://localhost:8080/"
        },
        "id": "jOIi1V5Ps3Xn",
        "outputId": "3e12a82a-b779-461e-ec48-e1c8e249bbfc"
      },
      "execution_count": 11,
      "outputs": [
        {
          "output_type": "execute_result",
          "data": {
            "text/plain": [
              "['PETR4.SA', 'VALE3.SA', 'MGLU3.SA']"
            ]
          },
          "metadata": {},
          "execution_count": 11
        }
      ]
    },
    {
      "cell_type": "code",
      "source": [
        "precos = {'MGLU':2.28, 'PETR4':23.07, 'VALE3':85.75}"
      ],
      "metadata": {
        "id": "oGQco4jVs3ON"
      },
      "execution_count": 12,
      "outputs": []
    },
    {
      "cell_type": "code",
      "source": [
        "precos"
      ],
      "metadata": {
        "colab": {
          "base_uri": "https://localhost:8080/"
        },
        "id": "obTw4zZKs28S",
        "outputId": "13c2f684-159a-4074-e457-170082622fcc"
      },
      "execution_count": 13,
      "outputs": [
        {
          "output_type": "execute_result",
          "data": {
            "text/plain": [
              "{'MGLU': 2.28, 'PETR4': 23.07, 'VALE3': 85.75}"
            ]
          },
          "metadata": {},
          "execution_count": 13
        }
      ]
    },
    {
      "cell_type": "code",
      "source": [
        "list(precos.keys())[1]"
      ],
      "metadata": {
        "colab": {
          "base_uri": "https://localhost:8080/",
          "height": 36
        },
        "id": "x5r1KZoqu6Uy",
        "outputId": "d144cf54-4f34-4054-d4b0-d385236ff432"
      },
      "execution_count": 14,
      "outputs": [
        {
          "output_type": "execute_result",
          "data": {
            "text/plain": [
              "'PETR4'"
            ],
            "application/vnd.google.colaboratory.intrinsic+json": {
              "type": "string"
            }
          },
          "metadata": {},
          "execution_count": 14
        }
      ]
    },
    {
      "cell_type": "code",
      "source": [
        "list(precos.values())[1]"
      ],
      "metadata": {
        "colab": {
          "base_uri": "https://localhost:8080/"
        },
        "id": "4_5REB-uu6RV",
        "outputId": "4510c01b-d9b3-451a-ce06-bba65e163fbd"
      },
      "execution_count": 15,
      "outputs": [
        {
          "output_type": "execute_result",
          "data": {
            "text/plain": [
              "23.07"
            ]
          },
          "metadata": {},
          "execution_count": 15
        }
      ]
    },
    {
      "cell_type": "code",
      "source": [
        "'A ação ' + list(precos.keys())[1] + ' está no valor de R$ ' + str(list(precos.values())[1])"
      ],
      "metadata": {
        "colab": {
          "base_uri": "https://localhost:8080/",
          "height": 36
        },
        "id": "JSLeK6Z0u6Od",
        "outputId": "0f621cbe-642b-41ed-ddb9-3eb7fe2876ee"
      },
      "execution_count": 16,
      "outputs": [
        {
          "output_type": "execute_result",
          "data": {
            "text/plain": [
              "'A ação PETR4 está no valor de R$ 23.07'"
            ],
            "application/vnd.google.colaboratory.intrinsic+json": {
              "type": "string"
            }
          },
          "metadata": {},
          "execution_count": 16
        }
      ]
    },
    {
      "cell_type": "code",
      "source": [
        "print('A ação' , list(precos.keys())[1] , 'está no valor de R$' , list(precos.values())[1])"
      ],
      "metadata": {
        "colab": {
          "base_uri": "https://localhost:8080/"
        },
        "id": "b-G_XGVCu6LG",
        "outputId": "683892a6-15d6-4464-ec1f-ea0e1ad10648"
      },
      "execution_count": 17,
      "outputs": [
        {
          "output_type": "stream",
          "name": "stdout",
          "text": [
            "A ação PETR4 está no valor de R$ 23.07\n"
          ]
        }
      ]
    },
    {
      "cell_type": "code",
      "source": [
        "lista_dic = list(range(0,len(precos)))"
      ],
      "metadata": {
        "id": "Vfz-GjYtwU3R"
      },
      "execution_count": 25,
      "outputs": []
    },
    {
      "cell_type": "code",
      "source": [
        "lista_dic"
      ],
      "metadata": {
        "colab": {
          "base_uri": "https://localhost:8080/"
        },
        "id": "YIMCDLeyweTk",
        "outputId": "69a7d006-12a0-4dc8-af9b-c41ccefd0ac5"
      },
      "execution_count": 26,
      "outputs": [
        {
          "output_type": "execute_result",
          "data": {
            "text/plain": [
              "[0, 1, 2]"
            ]
          },
          "metadata": {},
          "execution_count": 26
        }
      ]
    },
    {
      "cell_type": "code",
      "source": [
        "for i in range(0,len(precos)):\n",
        "  print('A ação' , list(precos.keys())[i] , 'está no valor de R$' , list(precos.values())[i])"
      ],
      "metadata": {
        "colab": {
          "base_uri": "https://localhost:8080/"
        },
        "id": "g2XiQrXnu6IN",
        "outputId": "009c7d9f-9ecf-4e4b-aa04-1d2b44c9624f"
      },
      "execution_count": 27,
      "outputs": [
        {
          "output_type": "stream",
          "name": "stdout",
          "text": [
            "A ação MGLU está no valor de R$ 2.28\n",
            "A ação PETR4 está no valor de R$ 23.07\n",
            "A ação VALE3 está no valor de R$ 85.75\n"
          ]
        }
      ]
    },
    {
      "cell_type": "markdown",
      "source": [
        "### 1.11.2 While"
      ],
      "metadata": {
        "id": "NgBzGmH1loRa"
      }
    },
    {
      "cell_type": "code",
      "source": [
        "preco_vale = 70"
      ],
      "metadata": {
        "id": "s5wPCe3-lsgL"
      },
      "execution_count": 32,
      "outputs": []
    },
    {
      "cell_type": "code",
      "source": [
        "while preco_vale < 100:\n",
        "  print('Espere um pouco. Preço atual R$',preco_vale)\n",
        "  preco_vale = round(preco_vale * 1.01,2)\n",
        "else:\n",
        "  print('Hora de vender. Preço atual R$',preco_vale)"
      ],
      "metadata": {
        "colab": {
          "base_uri": "https://localhost:8080/"
        },
        "id": "9o9H5riMxOrq",
        "outputId": "b5429934-07c4-4cff-9508-36d258c39d31"
      },
      "execution_count": 33,
      "outputs": [
        {
          "output_type": "stream",
          "name": "stdout",
          "text": [
            "Espere um pouco. Preço atual R$ 70\n",
            "Espere um pouco. Preço atual R$ 70.7\n",
            "Espere um pouco. Preço atual R$ 71.41\n",
            "Espere um pouco. Preço atual R$ 72.12\n",
            "Espere um pouco. Preço atual R$ 72.84\n",
            "Espere um pouco. Preço atual R$ 73.57\n",
            "Espere um pouco. Preço atual R$ 74.31\n",
            "Espere um pouco. Preço atual R$ 75.05\n",
            "Espere um pouco. Preço atual R$ 75.8\n",
            "Espere um pouco. Preço atual R$ 76.56\n",
            "Espere um pouco. Preço atual R$ 77.33\n",
            "Espere um pouco. Preço atual R$ 78.1\n",
            "Espere um pouco. Preço atual R$ 78.88\n",
            "Espere um pouco. Preço atual R$ 79.67\n",
            "Espere um pouco. Preço atual R$ 80.47\n",
            "Espere um pouco. Preço atual R$ 81.27\n",
            "Espere um pouco. Preço atual R$ 82.08\n",
            "Espere um pouco. Preço atual R$ 82.9\n",
            "Espere um pouco. Preço atual R$ 83.73\n",
            "Espere um pouco. Preço atual R$ 84.57\n",
            "Espere um pouco. Preço atual R$ 85.42\n",
            "Espere um pouco. Preço atual R$ 86.27\n",
            "Espere um pouco. Preço atual R$ 87.13\n",
            "Espere um pouco. Preço atual R$ 88.0\n",
            "Espere um pouco. Preço atual R$ 88.88\n",
            "Espere um pouco. Preço atual R$ 89.77\n",
            "Espere um pouco. Preço atual R$ 90.67\n",
            "Espere um pouco. Preço atual R$ 91.58\n",
            "Espere um pouco. Preço atual R$ 92.5\n",
            "Espere um pouco. Preço atual R$ 93.42\n",
            "Espere um pouco. Preço atual R$ 94.35\n",
            "Espere um pouco. Preço atual R$ 95.29\n",
            "Espere um pouco. Preço atual R$ 96.24\n",
            "Espere um pouco. Preço atual R$ 97.2\n",
            "Espere um pouco. Preço atual R$ 98.17\n",
            "Espere um pouco. Preço atual R$ 99.15\n",
            "Hora de vender. Preço atual R$ 100.14\n"
          ]
        }
      ]
    },
    {
      "cell_type": "code",
      "source": [
        "investimento = input(\"Quanto você quer investir? \")"
      ],
      "metadata": {
        "colab": {
          "base_uri": "https://localhost:8080/"
        },
        "id": "j6nbP9w5xWhQ",
        "outputId": "2543220a-eb8a-40e2-8ab5-0ac00aff1c44"
      },
      "execution_count": 35,
      "outputs": [
        {
          "name": "stdout",
          "output_type": "stream",
          "text": [
            "Quanto você quer investir? 1000\n"
          ]
        }
      ]
    },
    {
      "cell_type": "code",
      "source": [
        "investimento"
      ],
      "metadata": {
        "colab": {
          "base_uri": "https://localhost:8080/",
          "height": 36
        },
        "id": "UrdUwqN7ywnI",
        "outputId": "06b26af6-89d3-4e6a-faf5-754e3e3d5f35"
      },
      "execution_count": 37,
      "outputs": [
        {
          "output_type": "execute_result",
          "data": {
            "text/plain": [
              "'1000'"
            ],
            "application/vnd.google.colaboratory.intrinsic+json": {
              "type": "string"
            }
          },
          "metadata": {},
          "execution_count": 37
        }
      ]
    },
    {
      "cell_type": "code",
      "source": [
        "int(investimento)"
      ],
      "metadata": {
        "colab": {
          "base_uri": "https://localhost:8080/"
        },
        "id": "y-rdNyZyy1Vr",
        "outputId": "dae2846c-54b7-4ffc-ae25-6ca65634946f"
      },
      "execution_count": 38,
      "outputs": [
        {
          "output_type": "execute_result",
          "data": {
            "text/plain": [
              "1000"
            ]
          },
          "metadata": {},
          "execution_count": 38
        }
      ]
    },
    {
      "cell_type": "markdown",
      "source": [
        "## 1.12 Outros operadores"
      ],
      "metadata": {
        "id": "Cwnhw8xRy_jn"
      }
    },
    {
      "cell_type": "markdown",
      "source": [
        "Range"
      ],
      "metadata": {
        "id": "sAKbJRNB1-er"
      }
    },
    {
      "cell_type": "code",
      "source": [
        "type(range(0,20))"
      ],
      "metadata": {
        "colab": {
          "base_uri": "https://localhost:8080/"
        },
        "id": "_Inh_LIE5j1x",
        "outputId": "a4364b6d-23e8-4ff3-cf9b-15ec9299cfe9"
      },
      "execution_count": 40,
      "outputs": [
        {
          "output_type": "execute_result",
          "data": {
            "text/plain": [
              "range"
            ]
          },
          "metadata": {},
          "execution_count": 40
        }
      ]
    },
    {
      "cell_type": "code",
      "source": [
        "range(0,20)"
      ],
      "metadata": {
        "colab": {
          "base_uri": "https://localhost:8080/"
        },
        "id": "Jt_eTarY5utv",
        "outputId": "88894946-5066-4af3-a67f-97f928e2c948"
      },
      "execution_count": 41,
      "outputs": [
        {
          "output_type": "execute_result",
          "data": {
            "text/plain": [
              "range(0, 20)"
            ]
          },
          "metadata": {},
          "execution_count": 41
        }
      ]
    },
    {
      "cell_type": "code",
      "source": [
        "list(range(0,20))"
      ],
      "metadata": {
        "colab": {
          "base_uri": "https://localhost:8080/"
        },
        "id": "kfvtih8r5pcR",
        "outputId": "12ba1175-4108-4b91-86e6-a94b8f3ac4fc"
      },
      "execution_count": 43,
      "outputs": [
        {
          "output_type": "execute_result",
          "data": {
            "text/plain": [
              "[0, 1, 2, 3, 4, 5, 6, 7, 8, 9, 10, 11, 12, 13, 14, 15, 16, 17, 18, 19]"
            ]
          },
          "metadata": {},
          "execution_count": 43
        }
      ]
    },
    {
      "cell_type": "code",
      "source": [
        "for x in list(range(0,20)): print(x)"
      ],
      "metadata": {
        "colab": {
          "base_uri": "https://localhost:8080/"
        },
        "id": "jsFhVmDd5xCB",
        "outputId": "105f8f5c-6786-4b21-f047-c11eec889935"
      },
      "execution_count": 47,
      "outputs": [
        {
          "output_type": "stream",
          "name": "stdout",
          "text": [
            "0\n",
            "1\n",
            "2\n",
            "3\n",
            "4\n",
            "5\n",
            "6\n",
            "7\n",
            "8\n",
            "9\n",
            "10\n",
            "11\n",
            "12\n",
            "13\n",
            "14\n",
            "15\n",
            "16\n",
            "17\n",
            "18\n",
            "19\n"
          ]
        }
      ]
    },
    {
      "cell_type": "markdown",
      "source": [
        "Enumarate"
      ],
      "metadata": {
        "id": "4CM3LwcC57hE"
      }
    },
    {
      "cell_type": "code",
      "source": [
        "papeis = [\"PETR4\",\"VALE3\",\"MGLU3\"]"
      ],
      "metadata": {
        "id": "sQnPGw4q7GGW"
      },
      "execution_count": 48,
      "outputs": []
    },
    {
      "cell_type": "code",
      "source": [
        "lista_enumera = list(enumerate(papeis))"
      ],
      "metadata": {
        "id": "D-YjmTfU7IXY"
      },
      "execution_count": 50,
      "outputs": []
    },
    {
      "cell_type": "code",
      "source": [
        "lista_enumera[0]"
      ],
      "metadata": {
        "colab": {
          "base_uri": "https://localhost:8080/"
        },
        "id": "Yfp0gFyS7MDd",
        "outputId": "b03244a9-d122-4407-a12c-1dda34f5eeab"
      },
      "execution_count": 51,
      "outputs": [
        {
          "output_type": "execute_result",
          "data": {
            "text/plain": [
              "(0, 'PETR4')"
            ]
          },
          "metadata": {},
          "execution_count": 51
        }
      ]
    },
    {
      "cell_type": "code",
      "source": [
        "lista_enumera[0][1]"
      ],
      "metadata": {
        "colab": {
          "base_uri": "https://localhost:8080/",
          "height": 36
        },
        "id": "o-5MP2rt99DX",
        "outputId": "74b9c0fc-98d0-4a6f-ac8f-443b945e851a"
      },
      "execution_count": 52,
      "outputs": [
        {
          "output_type": "execute_result",
          "data": {
            "text/plain": [
              "'PETR4'"
            ],
            "application/vnd.google.colaboratory.intrinsic+json": {
              "type": "string"
            }
          },
          "metadata": {},
          "execution_count": 52
        }
      ]
    },
    {
      "cell_type": "code",
      "source": [
        "for i in range(0,len(lista_enumera)):\n",
        "  print(\"No indece\",i,\"o papel é\",lista_enumera[i][1])"
      ],
      "metadata": {
        "colab": {
          "base_uri": "https://localhost:8080/"
        },
        "id": "JyMLCKSG9_5u",
        "outputId": "11f86dba-8b4a-47f8-a4ea-bcd564c2c3d2"
      },
      "execution_count": 54,
      "outputs": [
        {
          "output_type": "stream",
          "name": "stdout",
          "text": [
            "No indece 0 o papel é PETR4\n",
            "No indece 1 o papel é VALE3\n",
            "No indece 2 o papel é MGLU3\n"
          ]
        }
      ]
    },
    {
      "cell_type": "code",
      "source": [
        "for i,j in enumerate(papeis):\n",
        "  print(\"No indece\",i,\"o papel é\",j)"
      ],
      "metadata": {
        "colab": {
          "base_uri": "https://localhost:8080/"
        },
        "id": "fXJzxnn2_zbU",
        "outputId": "b948fa92-aa7a-4c6d-c9cf-25d53a582a67"
      },
      "execution_count": 56,
      "outputs": [
        {
          "output_type": "stream",
          "name": "stdout",
          "text": [
            "No indece 0 o papel é PETR4\n",
            "No indece 1 o papel é VALE3\n",
            "No indece 2 o papel é MGLU3\n"
          ]
        }
      ]
    },
    {
      "cell_type": "markdown",
      "source": [
        "Zip e IN"
      ],
      "metadata": {
        "id": "lqgOmOO6AB2y"
      }
    },
    {
      "cell_type": "code",
      "source": [
        "acoes = [\"PETR4\",\"VALE3\",\"MGLU3\"]\n",
        "setor = [\"Petróleo\",\"Petróleo\",\"Motores\"]"
      ],
      "metadata": {
        "id": "KBUlj3IMAPtP"
      },
      "execution_count": 57,
      "outputs": []
    },
    {
      "cell_type": "code",
      "source": [
        "list(zip(acoes,setor))"
      ],
      "metadata": {
        "colab": {
          "base_uri": "https://localhost:8080/"
        },
        "id": "Mwl-A9D5Bjz_",
        "outputId": "0a415c5d-4ad5-49b4-b0df-1cc8fe363f00"
      },
      "execution_count": 59,
      "outputs": [
        {
          "output_type": "execute_result",
          "data": {
            "text/plain": [
              "[('PETR4', 'Petróleo'), ('VALE3', 'Petróleo'), ('MGLU3', 'Motores')]"
            ]
          },
          "metadata": {},
          "execution_count": 59
        }
      ]
    },
    {
      "cell_type": "code",
      "source": [
        "empresas_setor = zip(acoes,setor)"
      ],
      "metadata": {
        "id": "Q_tv2gMUBn09"
      },
      "execution_count": 60,
      "outputs": []
    },
    {
      "cell_type": "code",
      "source": [
        "for acao,setor in zip(acoes,setor):\n",
        "  print(\"A ação\",acao,\"pertence ao setor\",setor)"
      ],
      "metadata": {
        "colab": {
          "base_uri": "https://localhost:8080/"
        },
        "id": "O6lz-o9BBxLj",
        "outputId": "3473cd0e-6f77-4289-b3d3-8a87893eb233"
      },
      "execution_count": 61,
      "outputs": [
        {
          "output_type": "stream",
          "name": "stdout",
          "text": [
            "A ação PETR4 pertence ao setor Petróleo\n",
            "A ação VALE3 pertence ao setor Petróleo\n",
            "A ação MGLU3 pertence ao setor Motores\n"
          ]
        }
      ]
    },
    {
      "cell_type": "code",
      "source": [
        "for acao,setor in zip(acoes,setor):\n",
        "  print(f\"A ação {acao} pertence ao setor {setor}\")"
      ],
      "metadata": {
        "colab": {
          "base_uri": "https://localhost:8080/"
        },
        "id": "vnuH9Z-cB5G3",
        "outputId": "a9f98526-3f25-4765-e56b-7e58b4033a4e"
      },
      "execution_count": 62,
      "outputs": [
        {
          "output_type": "stream",
          "name": "stdout",
          "text": [
            "A ação PETR4 pertence ao setor M\n",
            "A ação VALE3 pertence ao setor o\n",
            "A ação MGLU3 pertence ao setor t\n"
          ]
        }
      ]
    },
    {
      "cell_type": "code",
      "source": [
        "'PETR4' in acoes"
      ],
      "metadata": {
        "colab": {
          "base_uri": "https://localhost:8080/"
        },
        "id": "dexdBlDvCBOp",
        "outputId": "2c7a4bee-487e-4254-9971-6f01a05ace91"
      },
      "execution_count": 63,
      "outputs": [
        {
          "output_type": "execute_result",
          "data": {
            "text/plain": [
              "True"
            ]
          },
          "metadata": {},
          "execution_count": 63
        }
      ]
    },
    {
      "cell_type": "markdown",
      "source": [
        "Random"
      ],
      "metadata": {
        "id": "QPcVxlYfCLdG"
      }
    },
    {
      "cell_type": "code",
      "source": [
        "from random import shuffle,randint"
      ],
      "metadata": {
        "id": "nCpIGyi5CPi0"
      },
      "execution_count": 64,
      "outputs": []
    },
    {
      "cell_type": "code",
      "source": [
        "randint(0,100)"
      ],
      "metadata": {
        "colab": {
          "base_uri": "https://localhost:8080/"
        },
        "id": "gfAMRy_BCVCi",
        "outputId": "d693e976-c85a-4dbf-c7b5-9c22c301c65e"
      },
      "execution_count": 65,
      "outputs": [
        {
          "output_type": "execute_result",
          "data": {
            "text/plain": [
              "64"
            ]
          },
          "metadata": {},
          "execution_count": 65
        }
      ]
    },
    {
      "cell_type": "code",
      "source": [
        "randint(0,100)"
      ],
      "metadata": {
        "colab": {
          "base_uri": "https://localhost:8080/"
        },
        "id": "NLiixPxnCXIy",
        "outputId": "a57e84e6-bcb7-4253-87b9-fff386b088bd"
      },
      "execution_count": 66,
      "outputs": [
        {
          "output_type": "execute_result",
          "data": {
            "text/plain": [
              "28"
            ]
          },
          "metadata": {},
          "execution_count": 66
        }
      ]
    },
    {
      "cell_type": "code",
      "source": [
        "randint(0,100)"
      ],
      "metadata": {
        "colab": {
          "base_uri": "https://localhost:8080/"
        },
        "id": "liysnDbpCZyJ",
        "outputId": "959e3a04-0402-40cf-fb91-0ad665b301e2"
      },
      "execution_count": 67,
      "outputs": [
        {
          "output_type": "execute_result",
          "data": {
            "text/plain": [
              "0"
            ]
          },
          "metadata": {},
          "execution_count": 67
        }
      ]
    },
    {
      "cell_type": "code",
      "source": [
        "sorteio = []"
      ],
      "metadata": {
        "id": "x93cUeTNCbI5"
      },
      "execution_count": 68,
      "outputs": []
    },
    {
      "cell_type": "code",
      "source": [
        "for x in range(0,10):\n",
        "  sorteio.append(randint(0,100))"
      ],
      "metadata": {
        "id": "DiazFXuOCiSo"
      },
      "execution_count": 69,
      "outputs": []
    },
    {
      "cell_type": "code",
      "source": [
        "sorteio"
      ],
      "metadata": {
        "colab": {
          "base_uri": "https://localhost:8080/"
        },
        "id": "y9um0nqmCnfI",
        "outputId": "6adc402c-cb9c-4ecf-f2a4-7b2bb7fbfa5e"
      },
      "execution_count": 70,
      "outputs": [
        {
          "output_type": "execute_result",
          "data": {
            "text/plain": [
              "[30, 37, 6, 97, 18, 58, 33, 80, 13, 68]"
            ]
          },
          "metadata": {},
          "execution_count": 70
        }
      ]
    },
    {
      "cell_type": "code",
      "source": [
        "lista_ordenada = list(range(0,10))"
      ],
      "metadata": {
        "id": "xPdduyxSCpGF"
      },
      "execution_count": 73,
      "outputs": []
    },
    {
      "cell_type": "code",
      "source": [
        "lista_ordenada"
      ],
      "metadata": {
        "colab": {
          "base_uri": "https://localhost:8080/"
        },
        "id": "U618ed_gC-kK",
        "outputId": "957dd961-09f6-4f68-813d-27efa27a19e7"
      },
      "execution_count": 74,
      "outputs": [
        {
          "output_type": "execute_result",
          "data": {
            "text/plain": [
              "[0, 1, 2, 3, 4, 5, 6, 7, 8, 9]"
            ]
          },
          "metadata": {},
          "execution_count": 74
        }
      ]
    },
    {
      "cell_type": "code",
      "source": [
        "shuffle(lista_ordenada)"
      ],
      "metadata": {
        "id": "2NRYdkIbDI_3"
      },
      "execution_count": 75,
      "outputs": []
    },
    {
      "cell_type": "code",
      "source": [
        "lista_ordenada"
      ],
      "metadata": {
        "colab": {
          "base_uri": "https://localhost:8080/"
        },
        "id": "8WS7YJOjDK4u",
        "outputId": "fbb2906f-4fb3-40a3-e674-846dd8b24e13"
      },
      "execution_count": 76,
      "outputs": [
        {
          "output_type": "execute_result",
          "data": {
            "text/plain": [
              "[2, 0, 3, 5, 1, 7, 4, 9, 6, 8]"
            ]
          },
          "metadata": {},
          "execution_count": 76
        }
      ]
    },
    {
      "cell_type": "code",
      "source": [],
      "metadata": {
        "id": "8OSMO_lxDMJ-"
      },
      "execution_count": null,
      "outputs": []
    }
  ]
}