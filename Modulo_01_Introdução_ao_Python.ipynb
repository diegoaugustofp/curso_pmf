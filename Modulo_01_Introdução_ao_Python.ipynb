{
  "nbformat": 4,
  "nbformat_minor": 0,
  "metadata": {
    "colab": {
      "provenance": [],
      "collapsed_sections": [
        "NfCpKzCe8a9E",
        "xqJ0YMvS60Yd"
      ],
      "authorship_tag": "ABX9TyOVj2V3eTVS7y7GrDYYYvA6",
      "include_colab_link": true
    },
    "kernelspec": {
      "name": "python3",
      "display_name": "Python 3"
    },
    "language_info": {
      "name": "python"
    }
  },
  "cells": [
    {
      "cell_type": "markdown",
      "metadata": {
        "id": "view-in-github",
        "colab_type": "text"
      },
      "source": [
        "<a href=\"https://colab.research.google.com/github/diegoaugustofp/curso_pmf/blob/main/Modulo_01_Introdu%C3%A7%C3%A3o_ao_Python.ipynb\" target=\"_parent\"><img src=\"https://colab.research.google.com/assets/colab-badge.svg\" alt=\"Open In Colab\"/></a>"
      ]
    },
    {
      "cell_type": "markdown",
      "source": [
        "<img src = \"https://github.com/Trading-com-dados/pmf/blob/main/PMF%20002.png?raw=true\" width = 500>"
      ],
      "metadata": {
        "id": "f9F50D2ZBnuH"
      }
    },
    {
      "cell_type": "markdown",
      "source": [
        "# **Modulo 01 - Introdução ao Python**\n"
      ],
      "metadata": {
        "id": "HVEzFLv-8De4"
      }
    },
    {
      "cell_type": "markdown",
      "source": [
        "## 1.1 Comandos básicos"
      ],
      "metadata": {
        "id": "3REaTy6q9hPd"
      }
    },
    {
      "cell_type": "markdown",
      "source": [
        "###A operação abaixo soma 2 numeros"
      ],
      "metadata": {
        "id": "NfCpKzCe8a9E"
      }
    },
    {
      "cell_type": "code",
      "execution_count": 1,
      "metadata": {
        "colab": {
          "base_uri": "https://localhost:8080/"
        },
        "id": "RD7jEL3M6cJF",
        "outputId": "2b7f8829-be28-4328-c4da-0bf8ea9ed58e"
      },
      "outputs": [
        {
          "output_type": "execute_result",
          "data": {
            "text/plain": [
              "2"
            ]
          },
          "metadata": {},
          "execution_count": 1
        }
      ],
      "source": [
        "1+1"
      ]
    },
    {
      "cell_type": "markdown",
      "source": [
        "###Atalhos importantes:"
      ],
      "metadata": {
        "id": "xqJ0YMvS60Yd"
      }
    },
    {
      "cell_type": "markdown",
      "source": [
        "* CTRL + M M => Convert uma célula de código em texto\n",
        "\n",
        "* CTRL + M B => Cria uma célula de código\n",
        "\n",
        "* CTRL + M D => Delete uma célula\n",
        "\n",
        "* CTRL + ENTER => Executa a linha e permacena na célula\n",
        "\n",
        "* SHIFT + ENTER => Executa a linha e passa para a nova célula"
      ],
      "metadata": {
        "id": "e9mZMKnT632s"
      }
    },
    {
      "cell_type": "markdown",
      "source": [
        "###Inserindo imagens no notebook"
      ],
      "metadata": {
        "id": "BWQrthVh60sh"
      }
    },
    {
      "cell_type": "markdown",
      "source": [
        "Imagens são inseridas em celulas de Markdown\n",
        "\n",
        "*   se for online, cole a URL da imagem entre as tags \"<img\"\n",
        "*   Parametro:\n",
        "  * src = url da imagem\n",
        "  * width = largura da imagem\n",
        "* Ex.: \"<img src = \"\"https://github.com/Trading-com-dados/pmf/blob/main/PMF%20002.png?raw=true\"\" width = 500>\"\n",
        "\n"
      ],
      "metadata": {
        "id": "0xJGvqGQ_B8A"
      }
    },
    {
      "cell_type": "markdown",
      "source": [
        "<center> <img src = \"https://github.com/Trading-com-dados/pmf/blob/main/PMF%20002.png?raw=true\" width = 600>"
      ],
      "metadata": {
        "id": "cFDohRT--4sp"
      }
    },
    {
      "cell_type": "markdown",
      "source": [
        "<img src = \"https://github.com/Trading-com-Dados/pmf/blob/main/logotipo-trading-com-dados.svg?raw=true\" width = 500>"
      ],
      "metadata": {
        "id": "4UMhIXg0Alvf"
      }
    },
    {
      "cell_type": "markdown",
      "source": [
        "## 1.2 Exibindo Mensagens"
      ],
      "metadata": {
        "id": "_FV4Y3duC9h9"
      }
    },
    {
      "cell_type": "markdown",
      "source": [
        "### 1.2.1 Hello World"
      ],
      "metadata": {
        "id": "nnECesEifPfq"
      }
    },
    {
      "cell_type": "code",
      "source": [
        "print(\"Hello World!\")"
      ],
      "metadata": {
        "colab": {
          "base_uri": "https://localhost:8080/"
        },
        "id": "c07TLHBlgOfC",
        "outputId": "4299eae1-8c29-4422-f924-65b91df7f39b"
      },
      "execution_count": 2,
      "outputs": [
        {
          "output_type": "stream",
          "name": "stdout",
          "text": [
            "Hello World!\n"
          ]
        }
      ]
    },
    {
      "cell_type": "code",
      "source": [],
      "metadata": {
        "id": "7wiqu-etgdJc"
      },
      "execution_count": null,
      "outputs": []
    }
  ]
}