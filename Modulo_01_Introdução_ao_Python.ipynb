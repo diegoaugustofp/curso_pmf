{
  "nbformat": 4,
  "nbformat_minor": 0,
  "metadata": {
    "colab": {
      "provenance": [],
      "collapsed_sections": [
        "3REaTy6q9hPd",
        "NfCpKzCe8a9E",
        "xqJ0YMvS60Yd",
        "BWQrthVh60sh",
        "_FV4Y3duC9h9",
        "nnECesEifPfq",
        "7wiqu-etgdJc",
        "uTLfABYsMNg6",
        "iDc4nmW5bxgb"
      ],
      "authorship_tag": "ABX9TyMSg5EFfhswO0lHxVno9aU9",
      "include_colab_link": true
    },
    "kernelspec": {
      "name": "python3",
      "display_name": "Python 3"
    },
    "language_info": {
      "name": "python"
    }
  },
  "cells": [
    {
      "cell_type": "markdown",
      "metadata": {
        "id": "view-in-github",
        "colab_type": "text"
      },
      "source": [
        "<a href=\"https://colab.research.google.com/github/diegoaugustofp/curso_pmf/blob/main/Modulo_01_Introdu%C3%A7%C3%A3o_ao_Python.ipynb\" target=\"_parent\"><img src=\"https://colab.research.google.com/assets/colab-badge.svg\" alt=\"Open In Colab\"/></a>"
      ]
    },
    {
      "cell_type": "markdown",
      "source": [
        "<img src = \"https://github.com/Trading-com-dados/pmf/blob/main/PMF%20002.png?raw=true\" width = 500>"
      ],
      "metadata": {
        "id": "f9F50D2ZBnuH"
      }
    },
    {
      "cell_type": "markdown",
      "source": [
        "# **Modulo 01 - Introdução ao Python**\n"
      ],
      "metadata": {
        "id": "HVEzFLv-8De4"
      }
    },
    {
      "cell_type": "markdown",
      "source": [
        "## 1.1 Comandos básicos"
      ],
      "metadata": {
        "id": "3REaTy6q9hPd"
      }
    },
    {
      "cell_type": "markdown",
      "source": [
        "###A operação abaixo soma 2 numeros"
      ],
      "metadata": {
        "id": "NfCpKzCe8a9E"
      }
    },
    {
      "cell_type": "code",
      "execution_count": 1,
      "metadata": {
        "colab": {
          "base_uri": "https://localhost:8080/"
        },
        "id": "RD7jEL3M6cJF",
        "outputId": "2b7f8829-be28-4328-c4da-0bf8ea9ed58e"
      },
      "outputs": [
        {
          "output_type": "execute_result",
          "data": {
            "text/plain": [
              "2"
            ]
          },
          "metadata": {},
          "execution_count": 1
        }
      ],
      "source": [
        "1+1"
      ]
    },
    {
      "cell_type": "markdown",
      "source": [
        "###Atalhos importantes:"
      ],
      "metadata": {
        "id": "xqJ0YMvS60Yd"
      }
    },
    {
      "cell_type": "markdown",
      "source": [
        "* CTRL + M M => Convert uma célula de código em texto\n",
        "\n",
        "* CTRL + M B => Cria uma célula de código\n",
        "\n",
        "* CTRL + M D => Delete uma célula\n",
        "\n",
        "* CTRL + ENTER => Executa a linha e permacena na célula\n",
        "\n",
        "* SHIFT + ENTER => Executa a linha e passa para a nova célula"
      ],
      "metadata": {
        "id": "e9mZMKnT632s"
      }
    },
    {
      "cell_type": "markdown",
      "source": [
        "###Inserindo imagens no notebook"
      ],
      "metadata": {
        "id": "BWQrthVh60sh"
      }
    },
    {
      "cell_type": "markdown",
      "source": [
        "Imagens são inseridas em celulas de Markdown\n",
        "\n",
        "*   se for online, cole a URL da imagem entre as tags \"<img\"\n",
        "*   Parametro:\n",
        "  * src = url da imagem\n",
        "  * width = largura da imagem\n",
        "* Ex.: \"<img src = \"\"https://github.com/Trading-com-dados/pmf/blob/main/PMF%20002.png?raw=true\"\" width = 500>\"\n",
        "\n"
      ],
      "metadata": {
        "id": "0xJGvqGQ_B8A"
      }
    },
    {
      "cell_type": "markdown",
      "source": [
        "<center> <img src = \"https://github.com/Trading-com-dados/pmf/blob/main/PMF%20002.png?raw=true\" width = 600>"
      ],
      "metadata": {
        "id": "cFDohRT--4sp"
      }
    },
    {
      "cell_type": "markdown",
      "source": [
        "<img src = \"https://github.com/Trading-com-Dados/pmf/blob/main/logotipo-trading-com-dados.svg?raw=true\" width = 500>"
      ],
      "metadata": {
        "id": "4UMhIXg0Alvf"
      }
    },
    {
      "cell_type": "markdown",
      "source": [
        "## 1.2 Exibindo Mensagens"
      ],
      "metadata": {
        "id": "_FV4Y3duC9h9"
      }
    },
    {
      "cell_type": "markdown",
      "source": [
        "### 1.2.1 Hello World"
      ],
      "metadata": {
        "id": "nnECesEifPfq"
      }
    },
    {
      "cell_type": "code",
      "source": [
        "print(\"Hello World!\")"
      ],
      "metadata": {
        "colab": {
          "base_uri": "https://localhost:8080/"
        },
        "id": "c07TLHBlgOfC",
        "outputId": "4299eae1-8c29-4422-f924-65b91df7f39b"
      },
      "execution_count": 2,
      "outputs": [
        {
          "output_type": "stream",
          "name": "stdout",
          "text": [
            "Hello World!\n"
          ]
        }
      ]
    },
    {
      "cell_type": "markdown",
      "source": [
        "## 1.3 Tipos de variáveis ( Variáveis e Objetos)"
      ],
      "metadata": {
        "id": "7wiqu-etgdJc"
      }
    },
    {
      "cell_type": "markdown",
      "source": [
        "**Tipo de variáveis**\n",
        "\n",
        "* **Integer (inteiro)**\n",
        "1. número de ações compradas:\n",
        "2. números de ordens enviadas\n",
        "3. quantidade de papéis analisados\n",
        "4. números de estratégias criadas\n",
        "\n",
        "* **Float (decimal) - o seprador decimal é \".\" (ponto)**\n",
        "1. preço do ativo\n",
        "2. valor financeiro do investimento\n",
        "3. métricas quantitativas, como, volatilidade, sharpe, sortino, drawdown dentre outras\n",
        "\n",
        "* **String**\n",
        "1. Noticias\n",
        "2. Redes sociais\n",
        "3. Nomes dos ativos\n",
        "\n",
        "* **Bolean (True ou False)**\n",
        "1. verificar a execução da ordem\n",
        "2. Verificar se uma regra foi obedecida\n"
      ],
      "metadata": {
        "id": "H9Qp4hzdCzkC"
      }
    },
    {
      "cell_type": "code",
      "source": [
        "# objeto\n",
        "9"
      ],
      "metadata": {
        "colab": {
          "base_uri": "https://localhost:8080/"
        },
        "id": "QdPXQ9AL7RH6",
        "outputId": "821a284e-d91c-4db8-dedb-7c8fb590b42b"
      },
      "execution_count": 3,
      "outputs": [
        {
          "output_type": "execute_result",
          "data": {
            "text/plain": [
              "9"
            ]
          },
          "metadata": {},
          "execution_count": 3
        }
      ]
    },
    {
      "cell_type": "code",
      "source": [
        "# variavel\n",
        "a = 9"
      ],
      "metadata": {
        "id": "ksaWI1HxCIxc"
      },
      "execution_count": 4,
      "outputs": []
    },
    {
      "cell_type": "code",
      "source": [
        "print(a)"
      ],
      "metadata": {
        "colab": {
          "base_uri": "https://localhost:8080/"
        },
        "id": "wOrUp7gOCNgc",
        "outputId": "71ce59e4-6c95-4500-910c-9466dc46422e"
      },
      "execution_count": 5,
      "outputs": [
        {
          "output_type": "stream",
          "name": "stdout",
          "text": [
            "9\n"
          ]
        }
      ]
    },
    {
      "cell_type": "code",
      "source": [
        "b = 30.78"
      ],
      "metadata": {
        "id": "bwHD8Js6COwb"
      },
      "execution_count": 6,
      "outputs": []
    },
    {
      "cell_type": "code",
      "source": [
        "b"
      ],
      "metadata": {
        "colab": {
          "base_uri": "https://localhost:8080/"
        },
        "id": "WuiDIQQYCUF6",
        "outputId": "a4572641-2c79-4d52-9381-067c750faf7b"
      },
      "execution_count": 7,
      "outputs": [
        {
          "output_type": "execute_result",
          "data": {
            "text/plain": [
              "30.78"
            ]
          },
          "metadata": {},
          "execution_count": 7
        }
      ]
    },
    {
      "cell_type": "code",
      "source": [
        "c = True"
      ],
      "metadata": {
        "id": "8PrHiUTfCn3G"
      },
      "execution_count": 12,
      "outputs": []
    },
    {
      "cell_type": "code",
      "source": [
        "d = \"Python\""
      ],
      "metadata": {
        "id": "suHJLU7rCsTL"
      },
      "execution_count": 13,
      "outputs": []
    },
    {
      "cell_type": "markdown",
      "source": [
        "Chamando a função type( )"
      ],
      "metadata": {
        "id": "RT5f82swCbZD"
      }
    },
    {
      "cell_type": "code",
      "source": [
        "type(a)"
      ],
      "metadata": {
        "colab": {
          "base_uri": "https://localhost:8080/"
        },
        "id": "EJIY-uCDCU4U",
        "outputId": "d49dcda9-0d64-4ad4-c074-514cee892f87"
      },
      "execution_count": 10,
      "outputs": [
        {
          "output_type": "execute_result",
          "data": {
            "text/plain": [
              "int"
            ]
          },
          "metadata": {},
          "execution_count": 10
        }
      ]
    },
    {
      "cell_type": "code",
      "source": [
        "type (b)"
      ],
      "metadata": {
        "colab": {
          "base_uri": "https://localhost:8080/"
        },
        "id": "EppQC7_xCXs7",
        "outputId": "fe5394f6-adc9-4a10-e7d9-3711ef65a2cf"
      },
      "execution_count": 11,
      "outputs": [
        {
          "output_type": "execute_result",
          "data": {
            "text/plain": [
              "float"
            ]
          },
          "metadata": {},
          "execution_count": 11
        }
      ]
    },
    {
      "cell_type": "code",
      "source": [
        "type(c)"
      ],
      "metadata": {
        "colab": {
          "base_uri": "https://localhost:8080/"
        },
        "id": "0eyR925GCh5M",
        "outputId": "960b967f-94f0-4218-8c11-50f428380c7e"
      },
      "execution_count": 14,
      "outputs": [
        {
          "output_type": "execute_result",
          "data": {
            "text/plain": [
              "bool"
            ]
          },
          "metadata": {},
          "execution_count": 14
        }
      ]
    },
    {
      "cell_type": "code",
      "source": [
        "type(d)"
      ],
      "metadata": {
        "colab": {
          "base_uri": "https://localhost:8080/"
        },
        "id": "JmFbsfcFCxzt",
        "outputId": "0753f801-55c6-40b0-c973-15daed65ce96"
      },
      "execution_count": 15,
      "outputs": [
        {
          "output_type": "execute_result",
          "data": {
            "text/plain": [
              "str"
            ]
          },
          "metadata": {},
          "execution_count": 15
        }
      ]
    },
    {
      "cell_type": "markdown",
      "source": [
        "Cuidado com os operadoes de variáveis... diferença entre = e =="
      ],
      "metadata": {
        "id": "SbN9tOVtL3dK"
      }
    },
    {
      "cell_type": "code",
      "source": [
        "print (a )\n",
        "print (b)\n",
        "a= b\n",
        "print (a)"
      ],
      "metadata": {
        "colab": {
          "base_uri": "https://localhost:8080/"
        },
        "id": "HWmgcvR9MA_J",
        "outputId": "4e93c5b5-8f67-49c5-cf5c-560485725450"
      },
      "execution_count": 16,
      "outputs": [
        {
          "output_type": "stream",
          "name": "stdout",
          "text": [
            "9\n",
            "30.78\n",
            "30.78\n"
          ]
        }
      ]
    },
    {
      "cell_type": "code",
      "source": [
        "a == b"
      ],
      "metadata": {
        "colab": {
          "base_uri": "https://localhost:8080/"
        },
        "id": "bKS4j8pUMIoy",
        "outputId": "dde599de-e95b-4d30-d520-9086a998909a"
      },
      "execution_count": 17,
      "outputs": [
        {
          "output_type": "execute_result",
          "data": {
            "text/plain": [
              "True"
            ]
          },
          "metadata": {},
          "execution_count": 17
        }
      ]
    },
    {
      "cell_type": "markdown",
      "source": [
        "## 1.4 Operadores Aritiméticos"
      ],
      "metadata": {
        "id": "uTLfABYsMNg6"
      }
    },
    {
      "cell_type": "markdown",
      "source": [
        "* Soma +\n",
        "* Subtração -\n",
        "* Multiplicação *\n",
        "* Divisão /\n",
        "* Divisão inteira //\n",
        "* Resto da divisão %\n",
        "* Potência **"
      ],
      "metadata": {
        "id": "EMa_Siw9OB9n"
      }
    },
    {
      "cell_type": "markdown",
      "source": [
        "Exemplos das operações:\n",
        "\n",
        "No momento, as acções da PETR4 estão cotadas a 23.07 e as da VALE3 a 85.75. No mesmo dia, você fez duas aquisições: 100 de PETR4 e 200 de VALE3. Qual o valor que você investiu neste dia?"
      ],
      "metadata": {
        "id": "YyRVFLCoOtW_"
      }
    },
    {
      "cell_type": "code",
      "source": [
        "PETR4 = 23.07 * 100\n",
        "VALE3 = 85.75 * 200"
      ],
      "metadata": {
        "id": "hx1gQdcVPaTX"
      },
      "execution_count": 56,
      "outputs": []
    },
    {
      "cell_type": "code",
      "source": [
        "PETR4 + VALE3"
      ],
      "metadata": {
        "colab": {
          "base_uri": "https://localhost:8080/"
        },
        "id": "fHpXrM82Pfjp",
        "outputId": "51fb422e-c6d3-4f51-d914-caa0649a6ba6"
      },
      "execution_count": 36,
      "outputs": [
        {
          "output_type": "execute_result",
          "data": {
            "text/plain": [
              "19457.0"
            ]
          },
          "metadata": {},
          "execution_count": 36
        }
      ]
    },
    {
      "cell_type": "code",
      "source": [
        "(23.07 * 100 ) + (85.75 * 200)"
      ],
      "metadata": {
        "colab": {
          "base_uri": "https://localhost:8080/"
        },
        "id": "wX9PET7SPlef",
        "outputId": "b53bb7a3-0009-4dfe-e132-becb46133b6f"
      },
      "execution_count": 37,
      "outputs": [
        {
          "output_type": "execute_result",
          "data": {
            "text/plain": [
              "19457.0"
            ]
          },
          "metadata": {},
          "execution_count": 37
        }
      ]
    },
    {
      "cell_type": "markdown",
      "source": [
        "Suponha que eu tenha R$ 4000,00 na carteira. Quantas ações de VALE3 eu posso comprar?"
      ],
      "metadata": {
        "id": "oJs_xxEfP0Ig"
      }
    },
    {
      "cell_type": "code",
      "source": [
        "valor_vale = 85.75\n",
        "valor_carteira = 4000"
      ],
      "metadata": {
        "id": "oX97cQLgRTzo"
      },
      "execution_count": 38,
      "outputs": []
    },
    {
      "cell_type": "code",
      "source": [
        "valor_carteira // valor_vale"
      ],
      "metadata": {
        "colab": {
          "base_uri": "https://localhost:8080/"
        },
        "id": "gnFGiyWwRYXh",
        "outputId": "dc7c6b6d-88dc-4156-c4c6-5b13f87f7a68"
      },
      "execution_count": 39,
      "outputs": [
        {
          "output_type": "execute_result",
          "data": {
            "text/plain": [
              "46.0"
            ]
          },
          "metadata": {},
          "execution_count": 39
        }
      ]
    },
    {
      "cell_type": "markdown",
      "source": [
        "Vamos utilizar os R\\$ 4000,00 da nossa carteira para comprar ações de VALE3.\n",
        "Vamos utlizar o restante para comprar ações de MGLU3. Que custa R$ 6,18."
      ],
      "metadata": {
        "id": "OT2TZNtdRc1v"
      }
    },
    {
      "cell_type": "code",
      "source": [
        "valor_a_investir = valor_carteira % valor_vale"
      ],
      "metadata": {
        "id": "L9-NJ9dQSi1E"
      },
      "execution_count": 40,
      "outputs": []
    },
    {
      "cell_type": "code",
      "source": [
        "valor_magalu = 2.82"
      ],
      "metadata": {
        "id": "FmPQmxfQTLF9"
      },
      "execution_count": 41,
      "outputs": []
    },
    {
      "cell_type": "code",
      "source": [
        "qtde_magalu = valor_a_investir // valor_magalu"
      ],
      "metadata": {
        "id": "ph3Ny7HFTRO8"
      },
      "execution_count": 45,
      "outputs": []
    },
    {
      "cell_type": "code",
      "source": [
        "MGLU3 = valor_magalu * qtde_magalu"
      ],
      "metadata": {
        "id": "ubi0DXCocu_F"
      },
      "execution_count": 46,
      "outputs": []
    },
    {
      "cell_type": "code",
      "source": [
        "valor_a_investir % valor_magalu"
      ],
      "metadata": {
        "colab": {
          "base_uri": "https://localhost:8080/"
        },
        "id": "nfKBtnu1Teoe",
        "outputId": "4a0b84dc-c647-4136-9e1d-f5fcaf502f20"
      },
      "execution_count": 43,
      "outputs": [
        {
          "output_type": "execute_result",
          "data": {
            "text/plain": [
              "1.920000000000003"
            ]
          },
          "metadata": {},
          "execution_count": 43
        }
      ]
    },
    {
      "cell_type": "code",
      "source": [],
      "metadata": {
        "id": "RFejxub5TiR8"
      },
      "execution_count": 43,
      "outputs": []
    },
    {
      "cell_type": "markdown",
      "source": [
        "## 1.5 Operadores Lógicos"
      ],
      "metadata": {
        "id": "iDc4nmW5bxgb"
      }
    },
    {
      "cell_type": "markdown",
      "source": [
        "Operadores comparativos:\n",
        "\n",
        "* Maior que >\n",
        "* Menor que <\n",
        "* Maior ou igual >=\n",
        "* Menor ou igual <=\n",
        "* Igual ==\n",
        "* Diferente !="
      ],
      "metadata": {
        "id": "_-C90lOgb2Au"
      }
    },
    {
      "cell_type": "code",
      "source": [
        "PETR4 == VALE3"
      ],
      "metadata": {
        "colab": {
          "base_uri": "https://localhost:8080/"
        },
        "id": "p3su5MOHce_F",
        "outputId": "5dd96236-b168-4a56-cacd-b597360b98b2"
      },
      "execution_count": 48,
      "outputs": [
        {
          "output_type": "execute_result",
          "data": {
            "text/plain": [
              "False"
            ]
          },
          "metadata": {},
          "execution_count": 48
        }
      ]
    },
    {
      "cell_type": "code",
      "source": [
        "PETR4 > VALE3"
      ],
      "metadata": {
        "colab": {
          "base_uri": "https://localhost:8080/"
        },
        "id": "PUiHy9F4dAG2",
        "outputId": "0f682e1e-d904-454a-97f8-3362cf0f40db"
      },
      "execution_count": 49,
      "outputs": [
        {
          "output_type": "execute_result",
          "data": {
            "text/plain": [
              "False"
            ]
          },
          "metadata": {},
          "execution_count": 49
        }
      ]
    },
    {
      "cell_type": "code",
      "source": [
        "PETR4 > MGLU3"
      ],
      "metadata": {
        "colab": {
          "base_uri": "https://localhost:8080/"
        },
        "id": "QMrlP8IKdEjw",
        "outputId": "1f4247f2-f65d-439f-ec35-cde50f83cf9d"
      },
      "execution_count": 50,
      "outputs": [
        {
          "output_type": "execute_result",
          "data": {
            "text/plain": [
              "True"
            ]
          },
          "metadata": {},
          "execution_count": 50
        }
      ]
    },
    {
      "cell_type": "code",
      "source": [
        "PETR4 != MGLU3"
      ],
      "metadata": {
        "colab": {
          "base_uri": "https://localhost:8080/"
        },
        "id": "x4sLN7wOdJUl",
        "outputId": "380e8f8e-2f47-4387-db8b-7195d3eea550"
      },
      "execution_count": 53,
      "outputs": [
        {
          "output_type": "execute_result",
          "data": {
            "text/plain": [
              "True"
            ]
          },
          "metadata": {},
          "execution_count": 53
        }
      ]
    },
    {
      "cell_type": "markdown",
      "source": [
        "Operadores condionais\n",
        "\n",
        "if, else, elif"
      ],
      "metadata": {
        "id": "WaC2ksjkcQec"
      }
    },
    {
      "cell_type": "markdown",
      "source": [
        "Operadores lógicos:\n",
        "\n",
        "* E and\n",
        "* Ou or\n",
        "* Não not"
      ],
      "metadata": {
        "id": "J1ne6EumcGdz"
      }
    },
    {
      "cell_type": "code",
      "source": [
        "(PETR4 > MGLU3) and (VALE3 > MGLU3)\n"
      ],
      "metadata": {
        "colab": {
          "base_uri": "https://localhost:8080/"
        },
        "id": "Em3gvTiUcbVr",
        "outputId": "b91c9918-8533-4bb8-881c-90ecb487e416"
      },
      "execution_count": 58,
      "outputs": [
        {
          "output_type": "execute_result",
          "data": {
            "text/plain": [
              "True"
            ]
          },
          "metadata": {},
          "execution_count": 58
        }
      ]
    },
    {
      "cell_type": "code",
      "source": [
        "(PETR4 > MGLU3) and (VALE3 < MGLU3)"
      ],
      "metadata": {
        "colab": {
          "base_uri": "https://localhost:8080/"
        },
        "id": "hJP6Kr6XdvQs",
        "outputId": "3978881f-388d-4eab-d232-b6183054c304"
      },
      "execution_count": 59,
      "outputs": [
        {
          "output_type": "execute_result",
          "data": {
            "text/plain": [
              "False"
            ]
          },
          "metadata": {},
          "execution_count": 59
        }
      ]
    },
    {
      "cell_type": "code",
      "source": [
        "(PETR4 > MGLU3) & (VALE3 < MGLU3)"
      ],
      "metadata": {
        "colab": {
          "base_uri": "https://localhost:8080/"
        },
        "id": "FEMVTN0XeEb0",
        "outputId": "7a98274d-fdf0-45ee-f21d-ff5a31ccdd34"
      },
      "execution_count": 60,
      "outputs": [
        {
          "output_type": "execute_result",
          "data": {
            "text/plain": [
              "False"
            ]
          },
          "metadata": {},
          "execution_count": 60
        }
      ]
    },
    {
      "cell_type": "code",
      "source": [
        "(PETR4 > MGLU3) or (VALE3 < MGLU3)"
      ],
      "metadata": {
        "colab": {
          "base_uri": "https://localhost:8080/"
        },
        "id": "JuYW9GKeecDR",
        "outputId": "c0db9abf-02ea-4822-f037-8a0c6d7dc833"
      },
      "execution_count": 61,
      "outputs": [
        {
          "output_type": "execute_result",
          "data": {
            "text/plain": [
              "True"
            ]
          },
          "metadata": {},
          "execution_count": 61
        }
      ]
    },
    {
      "cell_type": "code",
      "source": [
        "(PETR4 > MGLU3) | (VALE3 < MGLU3)"
      ],
      "metadata": {
        "colab": {
          "base_uri": "https://localhost:8080/"
        },
        "id": "PVjnUNpTeiGN",
        "outputId": "7f2306c5-39f2-44a5-8896-0913192bad87"
      },
      "execution_count": 63,
      "outputs": [
        {
          "output_type": "execute_result",
          "data": {
            "text/plain": [
              "True"
            ]
          },
          "metadata": {},
          "execution_count": 63
        }
      ]
    },
    {
      "cell_type": "code",
      "source": [
        "not((PETR4 > MGLU3) and (VALE3 < MGLU3))"
      ],
      "metadata": {
        "colab": {
          "base_uri": "https://localhost:8080/"
        },
        "id": "0rCzDm69ekKE",
        "outputId": "896c74f9-a2de-47a2-e608-b058213d78f8"
      },
      "execution_count": 66,
      "outputs": [
        {
          "output_type": "execute_result",
          "data": {
            "text/plain": [
              "True"
            ]
          },
          "metadata": {},
          "execution_count": 66
        }
      ]
    },
    {
      "cell_type": "markdown",
      "source": [
        "Operadores de Identidade"
      ],
      "metadata": {
        "id": "dLvEeI5wesOK"
      }
    },
    {
      "cell_type": "code",
      "source": [
        "PETR4 is MGLU3"
      ],
      "metadata": {
        "colab": {
          "base_uri": "https://localhost:8080/"
        },
        "id": "ON9-U7RQflXN",
        "outputId": "22adc107-eb18-4ecc-c24b-7f55a066d86a"
      },
      "execution_count": 68,
      "outputs": [
        {
          "output_type": "execute_result",
          "data": {
            "text/plain": [
              "False"
            ]
          },
          "metadata": {},
          "execution_count": 68
        }
      ]
    },
    {
      "cell_type": "code",
      "source": [
        "PETR4 is not MGLU3"
      ],
      "metadata": {
        "colab": {
          "base_uri": "https://localhost:8080/"
        },
        "id": "Dxf94VTpfsvz",
        "outputId": "e0a8804e-343f-4636-e0c0-96bcb0bae201"
      },
      "execution_count": 69,
      "outputs": [
        {
          "output_type": "execute_result",
          "data": {
            "text/plain": [
              "True"
            ]
          },
          "metadata": {},
          "execution_count": 69
        }
      ]
    },
    {
      "cell_type": "markdown",
      "source": [
        "## 1.6 Trabalhando com String"
      ],
      "metadata": {
        "id": "UP9w_wbnfzoi"
      }
    },
    {
      "cell_type": "code",
      "source": [
        "num_str = \"20\""
      ],
      "metadata": {
        "id": "0rx1UD4uhJOf"
      },
      "execution_count": 70,
      "outputs": []
    },
    {
      "cell_type": "code",
      "source": [
        "num = 20"
      ],
      "metadata": {
        "id": "axC-JIRIiHlb"
      },
      "execution_count": 71,
      "outputs": []
    },
    {
      "cell_type": "code",
      "source": [
        "num_str == num"
      ],
      "metadata": {
        "colab": {
          "base_uri": "https://localhost:8080/"
        },
        "id": "kWHVfnhdiIiw",
        "outputId": "0ecf3539-d41b-442e-81a9-3fc6e840418f"
      },
      "execution_count": 72,
      "outputs": [
        {
          "output_type": "execute_result",
          "data": {
            "text/plain": [
              "False"
            ]
          },
          "metadata": {},
          "execution_count": 72
        }
      ]
    },
    {
      "cell_type": "markdown",
      "source": [
        "Fatiando o texto (slicing) e Indexação (index)"
      ],
      "metadata": {
        "id": "sEyDtHYIiKMI"
      }
    },
    {
      "cell_type": "code",
      "source": [
        "manchete = \"A participação de mercado da Renault (EPA:RENA) no continente ultrapassou a da Stellantis (NYSE:STLA) pelo primeiro mês desde que o grupo franco-italiano foi formado, em janeiro de 2021, mostraram os dados da Associação Europeia de Fabricantes de Automóveis (ACEA).\""
      ],
      "metadata": {
        "id": "mDd4OP4JiXQe"
      },
      "execution_count": 75,
      "outputs": []
    },
    {
      "cell_type": "code",
      "source": [
        "type(manchete)"
      ],
      "metadata": {
        "colab": {
          "base_uri": "https://localhost:8080/"
        },
        "id": "1Nsc4F6ZjwaA",
        "outputId": "33cdffd6-b1a5-4f7b-d635-6c6f9cca291f"
      },
      "execution_count": 76,
      "outputs": [
        {
          "output_type": "execute_result",
          "data": {
            "text/plain": [
              "str"
            ]
          },
          "metadata": {},
          "execution_count": 76
        }
      ]
    },
    {
      "cell_type": "code",
      "source": [
        "print(manchete)"
      ],
      "metadata": {
        "colab": {
          "base_uri": "https://localhost:8080/"
        },
        "id": "Ytay6k74jyxE",
        "outputId": "50cecf6f-919d-4223-debb-ce3e9a570f0c"
      },
      "execution_count": 77,
      "outputs": [
        {
          "output_type": "stream",
          "name": "stdout",
          "text": [
            "A participação de mercado da Renault (EPA:RENA) no continente ultrapassou a da Stellantis (NYSE:STLA) pelo primeiro mês desde que o grupo franco-italiano foi formado, em janeiro de 2021, mostraram os dados da Associação Europeia de Fabricantes de Automóveis (ACEA).\n"
          ]
        }
      ]
    },
    {
      "cell_type": "code",
      "source": [
        "manchete"
      ],
      "metadata": {
        "colab": {
          "base_uri": "https://localhost:8080/",
          "height": 54
        },
        "id": "Nph4BUGkj0Ic",
        "outputId": "2d79a9a1-d51c-47a5-a22f-eaca76f3c955"
      },
      "execution_count": 78,
      "outputs": [
        {
          "output_type": "execute_result",
          "data": {
            "text/plain": [
              "'A participação de mercado da Renault (EPA:RENA) no continente ultrapassou a da Stellantis (NYSE:STLA) pelo primeiro mês desde que o grupo franco-italiano foi formado, em janeiro de 2021, mostraram os dados da Associação Europeia de Fabricantes de Automóveis (ACEA).'"
            ],
            "application/vnd.google.colaboratory.intrinsic+json": {
              "type": "string"
            }
          },
          "metadata": {},
          "execution_count": 78
        }
      ]
    },
    {
      "cell_type": "code",
      "source": [
        "len(manchete)"
      ],
      "metadata": {
        "colab": {
          "base_uri": "https://localhost:8080/"
        },
        "id": "2QAdRGiEj6x0",
        "outputId": "42319d7f-8ddf-4bcb-9f59-6acf1878e4fa"
      },
      "execution_count": 79,
      "outputs": [
        {
          "output_type": "execute_result",
          "data": {
            "text/plain": [
              "265"
            ]
          },
          "metadata": {},
          "execution_count": 79
        }
      ]
    },
    {
      "cell_type": "code",
      "source": [
        "manchete[0]"
      ],
      "metadata": {
        "colab": {
          "base_uri": "https://localhost:8080/",
          "height": 36
        },
        "id": "c6dJ5gcokAVs",
        "outputId": "5f8c10cc-717e-41e6-db74-94a3aac13eb8"
      },
      "execution_count": 80,
      "outputs": [
        {
          "output_type": "execute_result",
          "data": {
            "text/plain": [
              "'A'"
            ],
            "application/vnd.google.colaboratory.intrinsic+json": {
              "type": "string"
            }
          },
          "metadata": {},
          "execution_count": 80
        }
      ]
    },
    {
      "cell_type": "code",
      "source": [
        "manchete[1]"
      ],
      "metadata": {
        "colab": {
          "base_uri": "https://localhost:8080/",
          "height": 36
        },
        "id": "soJ9ANPckvqp",
        "outputId": "c560e068-996b-4c65-ada4-ae392b1f8350"
      },
      "execution_count": 81,
      "outputs": [
        {
          "output_type": "execute_result",
          "data": {
            "text/plain": [
              "' '"
            ],
            "application/vnd.google.colaboratory.intrinsic+json": {
              "type": "string"
            }
          },
          "metadata": {},
          "execution_count": 81
        }
      ]
    },
    {
      "cell_type": "code",
      "source": [
        "manchete[51]"
      ],
      "metadata": {
        "colab": {
          "base_uri": "https://localhost:8080/",
          "height": 36
        },
        "id": "8MhF4abzk2NX",
        "outputId": "c1b65175-a946-4027-f1df-0483e50aa181"
      },
      "execution_count": 83,
      "outputs": [
        {
          "output_type": "execute_result",
          "data": {
            "text/plain": [
              "'c'"
            ],
            "application/vnd.google.colaboratory.intrinsic+json": {
              "type": "string"
            }
          },
          "metadata": {},
          "execution_count": 83
        }
      ]
    },
    {
      "cell_type": "code",
      "source": [
        "manchete[264]"
      ],
      "metadata": {
        "colab": {
          "base_uri": "https://localhost:8080/",
          "height": 36
        },
        "id": "6LSNCFtAk4RH",
        "outputId": "4d541cb4-bfcb-4d5e-8551-645aaf37a715"
      },
      "execution_count": 85,
      "outputs": [
        {
          "output_type": "execute_result",
          "data": {
            "text/plain": [
              "'.'"
            ],
            "application/vnd.google.colaboratory.intrinsic+json": {
              "type": "string"
            }
          },
          "metadata": {},
          "execution_count": 85
        }
      ]
    },
    {
      "cell_type": "code",
      "source": [
        "manchete[265]"
      ],
      "metadata": {
        "colab": {
          "base_uri": "https://localhost:8080/",
          "height": 147
        },
        "id": "ATtoogjHk73n",
        "outputId": "57fe69fb-2ab1-4327-ba8b-2d596bcba27e"
      },
      "execution_count": 86,
      "outputs": [
        {
          "output_type": "error",
          "ename": "IndexError",
          "evalue": "string index out of range",
          "traceback": [
            "\u001b[0;31m---------------------------------------------------------------------------\u001b[0m",
            "\u001b[0;31mIndexError\u001b[0m                                Traceback (most recent call last)",
            "\u001b[0;32m<ipython-input-86-2407f23b10a9>\u001b[0m in \u001b[0;36m<cell line: 0>\u001b[0;34m()\u001b[0m\n\u001b[0;32m----> 1\u001b[0;31m \u001b[0mmanchete\u001b[0m\u001b[0;34m[\u001b[0m\u001b[0;36m265\u001b[0m\u001b[0;34m]\u001b[0m\u001b[0;34m\u001b[0m\u001b[0;34m\u001b[0m\u001b[0m\n\u001b[0m",
            "\u001b[0;31mIndexError\u001b[0m: string index out of range"
          ]
        }
      ]
    },
    {
      "cell_type": "code",
      "source": [
        "manchete[0:265]"
      ],
      "metadata": {
        "colab": {
          "base_uri": "https://localhost:8080/",
          "height": 54
        },
        "id": "roUs3dR5lBiw",
        "outputId": "4c09bbff-7083-4e37-9463-4ff805c19fd9"
      },
      "execution_count": 91,
      "outputs": [
        {
          "output_type": "execute_result",
          "data": {
            "text/plain": [
              "'A participação de mercado da Renault (EPA:RENA) no continente ultrapassou a da Stellantis (NYSE:STLA) pelo primeiro mês desde que o grupo franco-italiano foi formado, em janeiro de 2021, mostraram os dados da Associação Europeia de Fabricantes de Automóveis (ACEA).'"
            ],
            "application/vnd.google.colaboratory.intrinsic+json": {
              "type": "string"
            }
          },
          "metadata": {},
          "execution_count": 91
        }
      ]
    },
    {
      "cell_type": "code",
      "source": [
        "manchete[42:46]"
      ],
      "metadata": {
        "colab": {
          "base_uri": "https://localhost:8080/",
          "height": 36
        },
        "id": "8eR7Y1ftldpX",
        "outputId": "bdcc73ed-2ee6-42a1-f7cc-e7553f9a8b38"
      },
      "execution_count": 95,
      "outputs": [
        {
          "output_type": "execute_result",
          "data": {
            "text/plain": [
              "'RENA'"
            ],
            "application/vnd.google.colaboratory.intrinsic+json": {
              "type": "string"
            }
          },
          "metadata": {},
          "execution_count": 95
        }
      ]
    },
    {
      "cell_type": "code",
      "source": [
        "manchete[-1]"
      ],
      "metadata": {
        "colab": {
          "base_uri": "https://localhost:8080/",
          "height": 36
        },
        "id": "fg_0ebUYl-LU",
        "outputId": "4d6169d9-a47f-4617-f9cd-fa4f198f3a58"
      },
      "execution_count": 96,
      "outputs": [
        {
          "output_type": "execute_result",
          "data": {
            "text/plain": [
              "'.'"
            ],
            "application/vnd.google.colaboratory.intrinsic+json": {
              "type": "string"
            }
          },
          "metadata": {},
          "execution_count": 96
        }
      ]
    },
    {
      "cell_type": "code",
      "source": [
        "manchete[-10:]"
      ],
      "metadata": {
        "colab": {
          "base_uri": "https://localhost:8080/",
          "height": 36
        },
        "id": "MOjRaJoXmvlm",
        "outputId": "1b68d4f5-0c35-4deb-943d-12bf571a1198"
      },
      "execution_count": 98,
      "outputs": [
        {
          "output_type": "execute_result",
          "data": {
            "text/plain": [
              "'is (ACEA).'"
            ],
            "application/vnd.google.colaboratory.intrinsic+json": {
              "type": "string"
            }
          },
          "metadata": {},
          "execution_count": 98
        }
      ]
    },
    {
      "cell_type": "code",
      "source": [
        "manchete[-6:-2]"
      ],
      "metadata": {
        "colab": {
          "base_uri": "https://localhost:8080/",
          "height": 36
        },
        "id": "ytkW2rQymy5r",
        "outputId": "ac2a0e2f-c88d-4b0c-ac01-69c1e7d739e0"
      },
      "execution_count": 100,
      "outputs": [
        {
          "output_type": "execute_result",
          "data": {
            "text/plain": [
              "'ACEA'"
            ],
            "application/vnd.google.colaboratory.intrinsic+json": {
              "type": "string"
            }
          },
          "metadata": {},
          "execution_count": 100
        }
      ]
    },
    {
      "cell_type": "code",
      "source": [
        "manchete[0:-2:4]\n"
      ],
      "metadata": {
        "colab": {
          "base_uri": "https://localhost:8080/",
          "height": 36
        },
        "id": "28aYogn_m9JE",
        "outputId": "c1cdf46c-0576-4337-e569-7378be5aeaea"
      },
      "execution_count": 103,
      "outputs": [
        {
          "output_type": "execute_result",
          "data": {
            "text/plain": [
              "'Ariãero a ANnonetaudtasYS)lrimdeegoa-loiromno 1oa ds oçEp FitduósC'"
            ],
            "application/vnd.google.colaboratory.intrinsic+json": {
              "type": "string"
            }
          },
          "metadata": {},
          "execution_count": 103
        }
      ]
    },
    {
      "cell_type": "code",
      "source": [
        "manchete[::-1]"
      ],
      "metadata": {
        "colab": {
          "base_uri": "https://localhost:8080/",
          "height": 54
        },
        "id": "1Xc1V10XnYqG",
        "outputId": "99b0acac-ae98-42d8-8d97-4de6491a7e8b"
      },
      "execution_count": 104,
      "outputs": [
        {
          "output_type": "execute_result",
          "data": {
            "text/plain": [
              "'.)AECA( sievómotuA ed setnacirbaF ed aieporuE oãçaicossA ad sodad so marartsom ,1202 ed orienaj me ,odamrof iof onailati-ocnarf opurg o euq edsed sêm oriemirp olep )ALTS:ESYN( sitnalletS ad a uossapartlu etnenitnoc on )ANER:APE( tluaneR ad odacrem ed oãçapicitrap A'"
            ],
            "application/vnd.google.colaboratory.intrinsic+json": {
              "type": "string"
            }
          },
          "metadata": {},
          "execution_count": 104
        }
      ]
    },
    {
      "cell_type": "code",
      "source": [
        "manchete.lower()"
      ],
      "metadata": {
        "colab": {
          "base_uri": "https://localhost:8080/",
          "height": 54
        },
        "id": "LPv9Id1ZnsMp",
        "outputId": "2872c613-1ad6-42eb-cd59-4cad42ed27b9"
      },
      "execution_count": 105,
      "outputs": [
        {
          "output_type": "execute_result",
          "data": {
            "text/plain": [
              "'a participação de mercado da renault (epa:rena) no continente ultrapassou a da stellantis (nyse:stla) pelo primeiro mês desde que o grupo franco-italiano foi formado, em janeiro de 2021, mostraram os dados da associação europeia de fabricantes de automóveis (acea).'"
            ],
            "application/vnd.google.colaboratory.intrinsic+json": {
              "type": "string"
            }
          },
          "metadata": {},
          "execution_count": 105
        }
      ]
    },
    {
      "cell_type": "code",
      "source": [
        "manchete.upper()"
      ],
      "metadata": {
        "colab": {
          "base_uri": "https://localhost:8080/",
          "height": 54
        },
        "id": "KcXrsTHYpP3h",
        "outputId": "0fd0b708-d795-49b9-abac-74ded18b486e"
      },
      "execution_count": 106,
      "outputs": [
        {
          "output_type": "execute_result",
          "data": {
            "text/plain": [
              "'A PARTICIPAÇÃO DE MERCADO DA RENAULT (EPA:RENA) NO CONTINENTE ULTRAPASSOU A DA STELLANTIS (NYSE:STLA) PELO PRIMEIRO MÊS DESDE QUE O GRUPO FRANCO-ITALIANO FOI FORMADO, EM JANEIRO DE 2021, MOSTRARAM OS DADOS DA ASSOCIAÇÃO EUROPEIA DE FABRICANTES DE AUTOMÓVEIS (ACEA).'"
            ],
            "application/vnd.google.colaboratory.intrinsic+json": {
              "type": "string"
            }
          },
          "metadata": {},
          "execution_count": 106
        }
      ]
    },
    {
      "cell_type": "code",
      "source": [
        "manchete.split(':')"
      ],
      "metadata": {
        "colab": {
          "base_uri": "https://localhost:8080/"
        },
        "id": "hWW_RTNUpSGT",
        "outputId": "bf1039aa-6211-4233-c806-a3cf860aeba5"
      },
      "execution_count": 107,
      "outputs": [
        {
          "output_type": "execute_result",
          "data": {
            "text/plain": [
              "['A participação de mercado da Renault (EPA',\n",
              " 'RENA) no continente ultrapassou a da Stellantis (NYSE',\n",
              " 'STLA) pelo primeiro mês desde que o grupo franco-italiano foi formado, em janeiro de 2021, mostraram os dados da Associação Europeia de Fabricantes de Automóveis (ACEA).']"
            ]
          },
          "metadata": {},
          "execution_count": 107
        }
      ]
    },
    {
      "cell_type": "code",
      "source": [
        "manchete.split()"
      ],
      "metadata": {
        "colab": {
          "base_uri": "https://localhost:8080/"
        },
        "id": "O6DzX0SOpVPw",
        "outputId": "991ba7a6-2ad0-4ac9-8326-e64f1794c880"
      },
      "execution_count": 109,
      "outputs": [
        {
          "output_type": "execute_result",
          "data": {
            "text/plain": [
              "['A',\n",
              " 'participação',\n",
              " 'de',\n",
              " 'mercado',\n",
              " 'da',\n",
              " 'Renault',\n",
              " '(EPA:RENA)',\n",
              " 'no',\n",
              " 'continente',\n",
              " 'ultrapassou',\n",
              " 'a',\n",
              " 'da',\n",
              " 'Stellantis',\n",
              " '(NYSE:STLA)',\n",
              " 'pelo',\n",
              " 'primeiro',\n",
              " 'mês',\n",
              " 'desde',\n",
              " 'que',\n",
              " 'o',\n",
              " 'grupo',\n",
              " 'franco-italiano',\n",
              " 'foi',\n",
              " 'formado,',\n",
              " 'em',\n",
              " 'janeiro',\n",
              " 'de',\n",
              " '2021,',\n",
              " 'mostraram',\n",
              " 'os',\n",
              " 'dados',\n",
              " 'da',\n",
              " 'Associação',\n",
              " 'Europeia',\n",
              " 'de',\n",
              " 'Fabricantes',\n",
              " 'de',\n",
              " 'Automóveis',\n",
              " '(ACEA).']"
            ]
          },
          "metadata": {},
          "execution_count": 109
        }
      ]
    },
    {
      "cell_type": "code",
      "source": [],
      "metadata": {
        "id": "Nh5DsZTDpb-6"
      },
      "execution_count": null,
      "outputs": []
    }
  ]
}